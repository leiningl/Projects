{
  "nbformat": 4,
  "nbformat_minor": 0,
  "metadata": {
    "colab": {
      "name": "Backend_Developer_Takehome.ipynb",
      "provenance": [],
      "collapsed_sections": []
    },
    "kernelspec": {
      "name": "python3",
      "display_name": "Python 3"
    }
  },
  "cells": [
    {
      "cell_type": "markdown",
      "metadata": {
        "id": "DneC57x1oicL",
        "colab_type": "text"
      },
      "source": [
        ""
      ]
    },
    {
      "cell_type": "markdown",
      "metadata": {
        "id": "vRZ4rBafR2QB",
        "colab_type": "text"
      },
      "source": [
        "# Backend Developer Interview Task"
      ]
    },
    {
      "cell_type": "markdown",
      "metadata": {
        "id": "wo7Tju8YSQzo",
        "colab_type": "text"
      },
      "source": [
        "Author: Lisa L.\n",
        "\n",
        "Date: August, 8, 2020\n"
      ]
    },
    {
      "cell_type": "markdown",
      "metadata": {
        "id": "E0F629DlR53T",
        "colab_type": "text"
      },
      "source": [
        "# Task 1: Maintenance Data Analysis"
      ]
    },
    {
      "cell_type": "code",
      "metadata": {
        "id": "w0YmXO1aTCSX",
        "colab_type": "code",
        "colab": {}
      },
      "source": [
        "import pandas as pd\n",
        "import numpy as np"
      ],
      "execution_count": null,
      "outputs": []
    },
    {
      "cell_type": "code",
      "metadata": {
        "id": "XbHn-sddTPdl",
        "colab_type": "code",
        "colab": {
          "resources": {
            "http://localhost:8080/nbextensions/google.colab/files.js": {
              "data": "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",
              "ok": true,
              "headers": [
                [
                  "content-type",
                  "application/javascript"
                ]
              ],
              "status": 200,
              "status_text": ""
            }
          },
          "base_uri": "https://localhost:8080/",
          "height": 72
        },
        "outputId": "dcc2147d-082e-4b11-dea4-45afe750689c"
      },
      "source": [
        "from google.colab import files\n",
        "uploaded = files.upload()"
      ],
      "execution_count": null,
      "outputs": [
        {
          "output_type": "display_data",
          "data": {
            "text/html": [
              "\n",
              "     <input type=\"file\" id=\"files-a1f20edf-924a-4443-928b-3735c00d0e84\" name=\"files[]\" multiple disabled\n",
              "        style=\"border:none\" />\n",
              "     <output id=\"result-a1f20edf-924a-4443-928b-3735c00d0e84\">\n",
              "      Upload widget is only available when the cell has been executed in the\n",
              "      current browser session. Please rerun this cell to enable.\n",
              "      </output>\n",
              "      <script src=\"/nbextensions/google.colab/files.js\"></script> "
            ],
            "text/plain": [
              "<IPython.core.display.HTML object>"
            ]
          },
          "metadata": {
            "tags": []
          }
        },
        {
          "output_type": "stream",
          "text": [
            "Saving maintenance_data.csv to maintenance_data (1).csv\n"
          ],
          "name": "stdout"
        }
      ]
    },
    {
      "cell_type": "code",
      "metadata": {
        "id": "6aAOwjt5TlVL",
        "colab_type": "code",
        "colab": {}
      },
      "source": [
        "import io\n",
        "maintenance = pd.read_csv(io.BytesIO(uploaded['maintenance_data.csv']))"
      ],
      "execution_count": null,
      "outputs": []
    },
    {
      "cell_type": "code",
      "metadata": {
        "id": "qBom48pjUIW7",
        "colab_type": "code",
        "colab": {
          "base_uri": "https://localhost:8080/",
          "height": 204
        },
        "outputId": "4e3cf9c6-1186-49e7-bcfd-568388ba1533"
      },
      "source": [
        "maintenance.head()"
      ],
      "execution_count": null,
      "outputs": [
        {
          "output_type": "execute_result",
          "data": {
            "text/html": [
              "<div>\n",
              "<style scoped>\n",
              "    .dataframe tbody tr th:only-of-type {\n",
              "        vertical-align: middle;\n",
              "    }\n",
              "\n",
              "    .dataframe tbody tr th {\n",
              "        vertical-align: top;\n",
              "    }\n",
              "\n",
              "    .dataframe thead th {\n",
              "        text-align: right;\n",
              "    }\n",
              "</style>\n",
              "<table border=\"1\" class=\"dataframe\">\n",
              "  <thead>\n",
              "    <tr style=\"text-align: right;\">\n",
              "      <th></th>\n",
              "      <th>Item</th>\n",
              "      <th>System</th>\n",
              "      <th>Failure observation</th>\n",
              "      <th>Repair time</th>\n",
              "    </tr>\n",
              "  </thead>\n",
              "  <tbody>\n",
              "    <tr>\n",
              "      <th>0</th>\n",
              "      <td>Component 1</td>\n",
              "      <td>System 01</td>\n",
              "      <td>3/19/1990</td>\n",
              "      <td>23.44</td>\n",
              "    </tr>\n",
              "    <tr>\n",
              "      <th>1</th>\n",
              "      <td>Component 1</td>\n",
              "      <td>System 01</td>\n",
              "      <td>8/16/1990</td>\n",
              "      <td>23.29</td>\n",
              "    </tr>\n",
              "    <tr>\n",
              "      <th>2</th>\n",
              "      <td>Component 1</td>\n",
              "      <td>System 01</td>\n",
              "      <td>9/24/1990</td>\n",
              "      <td>20.98</td>\n",
              "    </tr>\n",
              "    <tr>\n",
              "      <th>3</th>\n",
              "      <td>Component 1</td>\n",
              "      <td>System 01</td>\n",
              "      <td>12/6/1990</td>\n",
              "      <td>21.01</td>\n",
              "    </tr>\n",
              "    <tr>\n",
              "      <th>4</th>\n",
              "      <td>Component 1</td>\n",
              "      <td>System 01</td>\n",
              "      <td>1/20/1991</td>\n",
              "      <td>29.92</td>\n",
              "    </tr>\n",
              "  </tbody>\n",
              "</table>\n",
              "</div>"
            ],
            "text/plain": [
              "          Item     System Failure observation  Repair time\n",
              "0  Component 1  System 01           3/19/1990        23.44\n",
              "1  Component 1  System 01           8/16/1990        23.29\n",
              "2  Component 1  System 01           9/24/1990        20.98\n",
              "3  Component 1  System 01           12/6/1990        21.01\n",
              "4  Component 1  System 01           1/20/1991        29.92"
            ]
          },
          "metadata": {
            "tags": []
          },
          "execution_count": 11
        }
      ]
    },
    {
      "cell_type": "code",
      "metadata": {
        "id": "zNRcTVX-U8TU",
        "colab_type": "code",
        "colab": {
          "base_uri": "https://localhost:8080/",
          "height": 102
        },
        "outputId": "32b247de-71a9-4bce-a42f-493a4b14e0f4"
      },
      "source": [
        "maintenance.isna().sum()"
      ],
      "execution_count": null,
      "outputs": [
        {
          "output_type": "execute_result",
          "data": {
            "text/plain": [
              "Item                   0\n",
              "System                 0\n",
              "Failure observation    0\n",
              "Repair time            0\n",
              "dtype: int64"
            ]
          },
          "metadata": {
            "tags": []
          },
          "execution_count": 10
        }
      ]
    },
    {
      "cell_type": "markdown",
      "metadata": {
        "id": "SX-h45tCm4pU",
        "colab_type": "text"
      },
      "source": [
        "### *Question 1: Provide some high level statistics on the data set such as number of observations, and minimum and maximum values. Provide overall values (across the entire data set), values for each item, and values for each item and system combination.*"
      ]
    },
    {
      "cell_type": "code",
      "metadata": {
        "id": "EIeX8VRQUZip",
        "colab_type": "code",
        "colab": {
          "base_uri": "https://localhost:8080/",
          "height": 34
        },
        "outputId": "c77ad386-845c-4ebf-d836-293ddf17d3ab"
      },
      "source": [
        "#number of observations across the entire dataset\n",
        "maintenance.shape"
      ],
      "execution_count": null,
      "outputs": [
        {
          "output_type": "execute_result",
          "data": {
            "text/plain": [
              "(6253, 4)"
            ]
          },
          "metadata": {
            "tags": []
          },
          "execution_count": 6
        }
      ]
    },
    {
      "cell_type": "code",
      "metadata": {
        "id": "5_cxiI4GUgKQ",
        "colab_type": "code",
        "colab": {
          "base_uri": "https://localhost:8080/",
          "height": 390
        },
        "outputId": "a86a8a71-7150-460e-8941-cfe080a11607"
      },
      "source": [
        "#summary statistics across the entire data set\n",
        "maintenance.describe(include='all')"
      ],
      "execution_count": null,
      "outputs": [
        {
          "output_type": "execute_result",
          "data": {
            "text/html": [
              "<div>\n",
              "<style scoped>\n",
              "    .dataframe tbody tr th:only-of-type {\n",
              "        vertical-align: middle;\n",
              "    }\n",
              "\n",
              "    .dataframe tbody tr th {\n",
              "        vertical-align: top;\n",
              "    }\n",
              "\n",
              "    .dataframe thead th {\n",
              "        text-align: right;\n",
              "    }\n",
              "</style>\n",
              "<table border=\"1\" class=\"dataframe\">\n",
              "  <thead>\n",
              "    <tr style=\"text-align: right;\">\n",
              "      <th></th>\n",
              "      <th>Item</th>\n",
              "      <th>System</th>\n",
              "      <th>Failure observation</th>\n",
              "      <th>Repair time</th>\n",
              "    </tr>\n",
              "  </thead>\n",
              "  <tbody>\n",
              "    <tr>\n",
              "      <th>count</th>\n",
              "      <td>6253</td>\n",
              "      <td>6253</td>\n",
              "      <td>6253</td>\n",
              "      <td>6253.000000</td>\n",
              "    </tr>\n",
              "    <tr>\n",
              "      <th>unique</th>\n",
              "      <td>10</td>\n",
              "      <td>8</td>\n",
              "      <td>4555</td>\n",
              "      <td>NaN</td>\n",
              "    </tr>\n",
              "    <tr>\n",
              "      <th>top</th>\n",
              "      <td>Component 6</td>\n",
              "      <td>System 05</td>\n",
              "      <td>5/30/1991</td>\n",
              "      <td>NaN</td>\n",
              "    </tr>\n",
              "    <tr>\n",
              "      <th>freq</th>\n",
              "      <td>1888</td>\n",
              "      <td>844</td>\n",
              "      <td>6</td>\n",
              "      <td>NaN</td>\n",
              "    </tr>\n",
              "    <tr>\n",
              "      <th>mean</th>\n",
              "      <td>NaN</td>\n",
              "      <td>NaN</td>\n",
              "      <td>NaN</td>\n",
              "      <td>75.386456</td>\n",
              "    </tr>\n",
              "    <tr>\n",
              "      <th>std</th>\n",
              "      <td>NaN</td>\n",
              "      <td>NaN</td>\n",
              "      <td>NaN</td>\n",
              "      <td>67.147066</td>\n",
              "    </tr>\n",
              "    <tr>\n",
              "      <th>min</th>\n",
              "      <td>NaN</td>\n",
              "      <td>NaN</td>\n",
              "      <td>NaN</td>\n",
              "      <td>5.010000</td>\n",
              "    </tr>\n",
              "    <tr>\n",
              "      <th>25%</th>\n",
              "      <td>NaN</td>\n",
              "      <td>NaN</td>\n",
              "      <td>NaN</td>\n",
              "      <td>23.480000</td>\n",
              "    </tr>\n",
              "    <tr>\n",
              "      <th>50%</th>\n",
              "      <td>NaN</td>\n",
              "      <td>NaN</td>\n",
              "      <td>NaN</td>\n",
              "      <td>53.870000</td>\n",
              "    </tr>\n",
              "    <tr>\n",
              "      <th>75%</th>\n",
              "      <td>NaN</td>\n",
              "      <td>NaN</td>\n",
              "      <td>NaN</td>\n",
              "      <td>95.700000</td>\n",
              "    </tr>\n",
              "    <tr>\n",
              "      <th>max</th>\n",
              "      <td>NaN</td>\n",
              "      <td>NaN</td>\n",
              "      <td>NaN</td>\n",
              "      <td>230.000000</td>\n",
              "    </tr>\n",
              "  </tbody>\n",
              "</table>\n",
              "</div>"
            ],
            "text/plain": [
              "               Item     System Failure observation  Repair time\n",
              "count          6253       6253                6253  6253.000000\n",
              "unique           10          8                4555          NaN\n",
              "top     Component 6  System 05           5/30/1991          NaN\n",
              "freq           1888        844                   6          NaN\n",
              "mean            NaN        NaN                 NaN    75.386456\n",
              "std             NaN        NaN                 NaN    67.147066\n",
              "min             NaN        NaN                 NaN     5.010000\n",
              "25%             NaN        NaN                 NaN    23.480000\n",
              "50%             NaN        NaN                 NaN    53.870000\n",
              "75%             NaN        NaN                 NaN    95.700000\n",
              "max             NaN        NaN                 NaN   230.000000"
            ]
          },
          "metadata": {
            "tags": []
          },
          "execution_count": 12
        }
      ]
    },
    {
      "cell_type": "code",
      "metadata": {
        "id": "zKqGseATdhI8",
        "colab_type": "code",
        "colab": {
          "base_uri": "https://localhost:8080/",
          "height": 221
        },
        "outputId": "bda4dc81-af13-481a-fcf4-1d0c36539e87"
      },
      "source": [
        "#number of observations by Item\n",
        "maintenance.groupby('Item')['Item'].count()"
      ],
      "execution_count": null,
      "outputs": [
        {
          "output_type": "execute_result",
          "data": {
            "text/plain": [
              "Item\n",
              "Component 1     1052\n",
              "Component 10     344\n",
              "Component 2      845\n",
              "Component 3      423\n",
              "Component 4      180\n",
              "Component 5       29\n",
              "Component 6     1888\n",
              "Component 7       78\n",
              "Component 8       98\n",
              "Component 9     1316\n",
              "Name: Item, dtype: int64"
            ]
          },
          "metadata": {
            "tags": []
          },
          "execution_count": 19
        }
      ]
    },
    {
      "cell_type": "code",
      "metadata": {
        "id": "sfGopPyveEwi",
        "colab_type": "code",
        "colab": {
          "base_uri": "https://localhost:8080/",
          "height": 238
        },
        "outputId": "52876724-f752-45eb-e218-e308aa1f353b"
      },
      "source": [
        "#number of observations by Item & System\n",
        "maintenance.groupby(['Item', 'System'])['System'].count()"
      ],
      "execution_count": null,
      "outputs": [
        {
          "output_type": "execute_result",
          "data": {
            "text/plain": [
              "Item         System   \n",
              "Component 1  System 01    121\n",
              "             System 02    157\n",
              "             System 03    130\n",
              "             System 04    124\n",
              "             System 05    149\n",
              "                         ... \n",
              "Component 9  System 04    141\n",
              "             System 05    185\n",
              "             System 06    165\n",
              "             System 07    162\n",
              "             System 08    144\n",
              "Name: System, Length: 80, dtype: int64"
            ]
          },
          "metadata": {
            "tags": []
          },
          "execution_count": 66
        }
      ]
    },
    {
      "cell_type": "code",
      "metadata": {
        "id": "aAdx_NEBcV6o",
        "colab_type": "code",
        "colab": {
          "base_uri": "https://localhost:8080/",
          "height": 421
        },
        "outputId": "71794a88-bc80-4d87-cc6e-7c969b58b145"
      },
      "source": [
        "#Summary statistics by Item\n",
        "maintenance[['Item','Repair time']].groupby('Item').describe()"
      ],
      "execution_count": null,
      "outputs": [
        {
          "output_type": "execute_result",
          "data": {
            "text/html": [
              "<div>\n",
              "<style scoped>\n",
              "    .dataframe tbody tr th:only-of-type {\n",
              "        vertical-align: middle;\n",
              "    }\n",
              "\n",
              "    .dataframe tbody tr th {\n",
              "        vertical-align: top;\n",
              "    }\n",
              "\n",
              "    .dataframe thead tr th {\n",
              "        text-align: left;\n",
              "    }\n",
              "\n",
              "    .dataframe thead tr:last-of-type th {\n",
              "        text-align: right;\n",
              "    }\n",
              "</style>\n",
              "<table border=\"1\" class=\"dataframe\">\n",
              "  <thead>\n",
              "    <tr>\n",
              "      <th></th>\n",
              "      <th colspan=\"8\" halign=\"left\">Repair time</th>\n",
              "    </tr>\n",
              "    <tr>\n",
              "      <th></th>\n",
              "      <th>count</th>\n",
              "      <th>mean</th>\n",
              "      <th>std</th>\n",
              "      <th>min</th>\n",
              "      <th>25%</th>\n",
              "      <th>50%</th>\n",
              "      <th>75%</th>\n",
              "      <th>max</th>\n",
              "    </tr>\n",
              "    <tr>\n",
              "      <th>Item</th>\n",
              "      <th></th>\n",
              "      <th></th>\n",
              "      <th></th>\n",
              "      <th></th>\n",
              "      <th></th>\n",
              "      <th></th>\n",
              "      <th></th>\n",
              "      <th></th>\n",
              "    </tr>\n",
              "  </thead>\n",
              "  <tbody>\n",
              "    <tr>\n",
              "      <th>Component 1</th>\n",
              "      <td>1052.0</td>\n",
              "      <td>25.057918</td>\n",
              "      <td>2.988146</td>\n",
              "      <td>20.01</td>\n",
              "      <td>22.4675</td>\n",
              "      <td>25.035</td>\n",
              "      <td>27.7475</td>\n",
              "      <td>29.98</td>\n",
              "    </tr>\n",
              "    <tr>\n",
              "      <th>Component 10</th>\n",
              "      <td>344.0</td>\n",
              "      <td>9.921599</td>\n",
              "      <td>2.796434</td>\n",
              "      <td>5.01</td>\n",
              "      <td>7.5650</td>\n",
              "      <td>10.040</td>\n",
              "      <td>12.1125</td>\n",
              "      <td>14.99</td>\n",
              "    </tr>\n",
              "    <tr>\n",
              "      <th>Component 2</th>\n",
              "      <td>845.0</td>\n",
              "      <td>14.979053</td>\n",
              "      <td>2.914457</td>\n",
              "      <td>10.00</td>\n",
              "      <td>12.3700</td>\n",
              "      <td>14.980</td>\n",
              "      <td>17.5800</td>\n",
              "      <td>20.00</td>\n",
              "    </tr>\n",
              "    <tr>\n",
              "      <th>Component 3</th>\n",
              "      <td>423.0</td>\n",
              "      <td>54.857069</td>\n",
              "      <td>2.750052</td>\n",
              "      <td>50.02</td>\n",
              "      <td>52.4450</td>\n",
              "      <td>54.690</td>\n",
              "      <td>57.0600</td>\n",
              "      <td>60.00</td>\n",
              "    </tr>\n",
              "    <tr>\n",
              "      <th>Component 4</th>\n",
              "      <td>180.0</td>\n",
              "      <td>225.181000</td>\n",
              "      <td>2.831804</td>\n",
              "      <td>220.04</td>\n",
              "      <td>222.8525</td>\n",
              "      <td>225.120</td>\n",
              "      <td>227.6750</td>\n",
              "      <td>230.00</td>\n",
              "    </tr>\n",
              "    <tr>\n",
              "      <th>Component 5</th>\n",
              "      <td>29.0</td>\n",
              "      <td>120.034138</td>\n",
              "      <td>2.759566</td>\n",
              "      <td>115.12</td>\n",
              "      <td>118.5600</td>\n",
              "      <td>119.980</td>\n",
              "      <td>122.1000</td>\n",
              "      <td>124.87</td>\n",
              "    </tr>\n",
              "    <tr>\n",
              "      <th>Component 6</th>\n",
              "      <td>1888.0</td>\n",
              "      <td>55.024179</td>\n",
              "      <td>2.850225</td>\n",
              "      <td>50.00</td>\n",
              "      <td>52.5775</td>\n",
              "      <td>55.035</td>\n",
              "      <td>57.5200</td>\n",
              "      <td>59.99</td>\n",
              "    </tr>\n",
              "    <tr>\n",
              "      <th>Component 7</th>\n",
              "      <td>78.0</td>\n",
              "      <td>65.309231</td>\n",
              "      <td>2.965858</td>\n",
              "      <td>60.04</td>\n",
              "      <td>62.8950</td>\n",
              "      <td>65.415</td>\n",
              "      <td>68.1825</td>\n",
              "      <td>69.96</td>\n",
              "    </tr>\n",
              "    <tr>\n",
              "      <th>Component 8</th>\n",
              "      <td>98.0</td>\n",
              "      <td>94.957551</td>\n",
              "      <td>2.994754</td>\n",
              "      <td>90.06</td>\n",
              "      <td>92.0750</td>\n",
              "      <td>94.525</td>\n",
              "      <td>97.6375</td>\n",
              "      <td>99.93</td>\n",
              "    </tr>\n",
              "    <tr>\n",
              "      <th>Component 9</th>\n",
              "      <td>1316.0</td>\n",
              "      <td>184.997363</td>\n",
              "      <td>2.868010</td>\n",
              "      <td>180.01</td>\n",
              "      <td>182.5500</td>\n",
              "      <td>185.030</td>\n",
              "      <td>187.4600</td>\n",
              "      <td>190.00</td>\n",
              "    </tr>\n",
              "  </tbody>\n",
              "</table>\n",
              "</div>"
            ],
            "text/plain": [
              "             Repair time                        ...                           \n",
              "                   count        mean       std  ...      50%       75%     max\n",
              "Item                                            ...                           \n",
              "Component 1       1052.0   25.057918  2.988146  ...   25.035   27.7475   29.98\n",
              "Component 10       344.0    9.921599  2.796434  ...   10.040   12.1125   14.99\n",
              "Component 2        845.0   14.979053  2.914457  ...   14.980   17.5800   20.00\n",
              "Component 3        423.0   54.857069  2.750052  ...   54.690   57.0600   60.00\n",
              "Component 4        180.0  225.181000  2.831804  ...  225.120  227.6750  230.00\n",
              "Component 5         29.0  120.034138  2.759566  ...  119.980  122.1000  124.87\n",
              "Component 6       1888.0   55.024179  2.850225  ...   55.035   57.5200   59.99\n",
              "Component 7         78.0   65.309231  2.965858  ...   65.415   68.1825   69.96\n",
              "Component 8         98.0   94.957551  2.994754  ...   94.525   97.6375   99.93\n",
              "Component 9       1316.0  184.997363  2.868010  ...  185.030  187.4600  190.00\n",
              "\n",
              "[10 rows x 8 columns]"
            ]
          },
          "metadata": {
            "tags": []
          },
          "execution_count": 22
        }
      ]
    },
    {
      "cell_type": "code",
      "metadata": {
        "id": "U1oHFbJMgifs",
        "colab_type": "code",
        "colab": {
          "base_uri": "https://localhost:8080/",
          "height": 481
        },
        "outputId": "efed0952-ad7d-41ce-b4e2-8e83e8d43d76"
      },
      "source": [
        "#Summary Statistics by Item & System\n",
        "maintenance[['Item','System','Repair time']].groupby(['Item','System']).describe()"
      ],
      "execution_count": null,
      "outputs": [
        {
          "output_type": "execute_result",
          "data": {
            "text/html": [
              "<div>\n",
              "<style scoped>\n",
              "    .dataframe tbody tr th:only-of-type {\n",
              "        vertical-align: middle;\n",
              "    }\n",
              "\n",
              "    .dataframe tbody tr th {\n",
              "        vertical-align: top;\n",
              "    }\n",
              "\n",
              "    .dataframe thead tr th {\n",
              "        text-align: left;\n",
              "    }\n",
              "\n",
              "    .dataframe thead tr:last-of-type th {\n",
              "        text-align: right;\n",
              "    }\n",
              "</style>\n",
              "<table border=\"1\" class=\"dataframe\">\n",
              "  <thead>\n",
              "    <tr>\n",
              "      <th></th>\n",
              "      <th></th>\n",
              "      <th colspan=\"8\" halign=\"left\">Repair time</th>\n",
              "    </tr>\n",
              "    <tr>\n",
              "      <th></th>\n",
              "      <th></th>\n",
              "      <th>count</th>\n",
              "      <th>mean</th>\n",
              "      <th>std</th>\n",
              "      <th>min</th>\n",
              "      <th>25%</th>\n",
              "      <th>50%</th>\n",
              "      <th>75%</th>\n",
              "      <th>max</th>\n",
              "    </tr>\n",
              "    <tr>\n",
              "      <th>Item</th>\n",
              "      <th>System</th>\n",
              "      <th></th>\n",
              "      <th></th>\n",
              "      <th></th>\n",
              "      <th></th>\n",
              "      <th></th>\n",
              "      <th></th>\n",
              "      <th></th>\n",
              "      <th></th>\n",
              "    </tr>\n",
              "  </thead>\n",
              "  <tbody>\n",
              "    <tr>\n",
              "      <th rowspan=\"5\" valign=\"top\">Component 1</th>\n",
              "      <th>System 01</th>\n",
              "      <td>121.0</td>\n",
              "      <td>24.485455</td>\n",
              "      <td>3.086979</td>\n",
              "      <td>20.06</td>\n",
              "      <td>21.5600</td>\n",
              "      <td>24.640</td>\n",
              "      <td>27.1600</td>\n",
              "      <td>29.96</td>\n",
              "    </tr>\n",
              "    <tr>\n",
              "      <th>System 02</th>\n",
              "      <td>157.0</td>\n",
              "      <td>24.878089</td>\n",
              "      <td>3.024297</td>\n",
              "      <td>20.03</td>\n",
              "      <td>22.2700</td>\n",
              "      <td>24.930</td>\n",
              "      <td>27.5600</td>\n",
              "      <td>29.98</td>\n",
              "    </tr>\n",
              "    <tr>\n",
              "      <th>System 03</th>\n",
              "      <td>130.0</td>\n",
              "      <td>25.308846</td>\n",
              "      <td>2.812243</td>\n",
              "      <td>20.10</td>\n",
              "      <td>23.1250</td>\n",
              "      <td>25.065</td>\n",
              "      <td>27.5425</td>\n",
              "      <td>29.96</td>\n",
              "    </tr>\n",
              "    <tr>\n",
              "      <th>System 04</th>\n",
              "      <td>124.0</td>\n",
              "      <td>25.204113</td>\n",
              "      <td>2.928497</td>\n",
              "      <td>20.09</td>\n",
              "      <td>22.5675</td>\n",
              "      <td>25.580</td>\n",
              "      <td>27.8825</td>\n",
              "      <td>29.89</td>\n",
              "    </tr>\n",
              "    <tr>\n",
              "      <th>System 05</th>\n",
              "      <td>149.0</td>\n",
              "      <td>25.003154</td>\n",
              "      <td>3.137809</td>\n",
              "      <td>20.03</td>\n",
              "      <td>22.3800</td>\n",
              "      <td>24.780</td>\n",
              "      <td>27.9400</td>\n",
              "      <td>29.97</td>\n",
              "    </tr>\n",
              "    <tr>\n",
              "      <th>...</th>\n",
              "      <th>...</th>\n",
              "      <td>...</td>\n",
              "      <td>...</td>\n",
              "      <td>...</td>\n",
              "      <td>...</td>\n",
              "      <td>...</td>\n",
              "      <td>...</td>\n",
              "      <td>...</td>\n",
              "      <td>...</td>\n",
              "    </tr>\n",
              "    <tr>\n",
              "      <th rowspan=\"5\" valign=\"top\">Component 9</th>\n",
              "      <th>System 04</th>\n",
              "      <td>141.0</td>\n",
              "      <td>184.962766</td>\n",
              "      <td>3.052510</td>\n",
              "      <td>180.09</td>\n",
              "      <td>182.1800</td>\n",
              "      <td>184.640</td>\n",
              "      <td>187.7300</td>\n",
              "      <td>189.99</td>\n",
              "    </tr>\n",
              "    <tr>\n",
              "      <th>System 05</th>\n",
              "      <td>185.0</td>\n",
              "      <td>184.648216</td>\n",
              "      <td>2.619604</td>\n",
              "      <td>180.08</td>\n",
              "      <td>182.3400</td>\n",
              "      <td>184.660</td>\n",
              "      <td>186.4900</td>\n",
              "      <td>189.98</td>\n",
              "    </tr>\n",
              "    <tr>\n",
              "      <th>System 06</th>\n",
              "      <td>165.0</td>\n",
              "      <td>185.060909</td>\n",
              "      <td>2.766393</td>\n",
              "      <td>180.01</td>\n",
              "      <td>182.8000</td>\n",
              "      <td>185.080</td>\n",
              "      <td>187.2600</td>\n",
              "      <td>189.95</td>\n",
              "    </tr>\n",
              "    <tr>\n",
              "      <th>System 07</th>\n",
              "      <td>162.0</td>\n",
              "      <td>185.163086</td>\n",
              "      <td>2.937469</td>\n",
              "      <td>180.07</td>\n",
              "      <td>182.5600</td>\n",
              "      <td>185.395</td>\n",
              "      <td>187.4800</td>\n",
              "      <td>189.89</td>\n",
              "    </tr>\n",
              "    <tr>\n",
              "      <th>System 08</th>\n",
              "      <td>144.0</td>\n",
              "      <td>184.799097</td>\n",
              "      <td>2.897540</td>\n",
              "      <td>180.11</td>\n",
              "      <td>182.4600</td>\n",
              "      <td>184.705</td>\n",
              "      <td>187.0425</td>\n",
              "      <td>189.97</td>\n",
              "    </tr>\n",
              "  </tbody>\n",
              "</table>\n",
              "<p>80 rows × 8 columns</p>\n",
              "</div>"
            ],
            "text/plain": [
              "                      Repair time              ...                  \n",
              "                            count        mean  ...       75%     max\n",
              "Item        System                             ...                  \n",
              "Component 1 System 01       121.0   24.485455  ...   27.1600   29.96\n",
              "            System 02       157.0   24.878089  ...   27.5600   29.98\n",
              "            System 03       130.0   25.308846  ...   27.5425   29.96\n",
              "            System 04       124.0   25.204113  ...   27.8825   29.89\n",
              "            System 05       149.0   25.003154  ...   27.9400   29.97\n",
              "...                           ...         ...  ...       ...     ...\n",
              "Component 9 System 04       141.0  184.962766  ...  187.7300  189.99\n",
              "            System 05       185.0  184.648216  ...  186.4900  189.98\n",
              "            System 06       165.0  185.060909  ...  187.2600  189.95\n",
              "            System 07       162.0  185.163086  ...  187.4800  189.89\n",
              "            System 08       144.0  184.799097  ...  187.0425  189.97\n",
              "\n",
              "[80 rows x 8 columns]"
            ]
          },
          "metadata": {
            "tags": []
          },
          "execution_count": 27
        }
      ]
    },
    {
      "cell_type": "markdown",
      "metadata": {
        "id": "s_a2ltcpnPw5",
        "colab_type": "text"
      },
      "source": [
        "### *Question 2: Calculate the mean repair time for each item.*\n",
        "\n"
      ]
    },
    {
      "cell_type": "code",
      "metadata": {
        "id": "HPlAJkyga0mn",
        "colab_type": "code",
        "colab": {
          "base_uri": "https://localhost:8080/",
          "height": 390
        },
        "outputId": "5e86cbc0-893b-449b-baf4-c1905ee03d9f"
      },
      "source": [
        "#calculate the mean repair time by item\n",
        "maintenance[['Item','Repair time']].groupby('Item').mean()"
      ],
      "execution_count": null,
      "outputs": [
        {
          "output_type": "execute_result",
          "data": {
            "text/html": [
              "<div>\n",
              "<style scoped>\n",
              "    .dataframe tbody tr th:only-of-type {\n",
              "        vertical-align: middle;\n",
              "    }\n",
              "\n",
              "    .dataframe tbody tr th {\n",
              "        vertical-align: top;\n",
              "    }\n",
              "\n",
              "    .dataframe thead th {\n",
              "        text-align: right;\n",
              "    }\n",
              "</style>\n",
              "<table border=\"1\" class=\"dataframe\">\n",
              "  <thead>\n",
              "    <tr style=\"text-align: right;\">\n",
              "      <th></th>\n",
              "      <th>Repair time</th>\n",
              "    </tr>\n",
              "    <tr>\n",
              "      <th>Item</th>\n",
              "      <th></th>\n",
              "    </tr>\n",
              "  </thead>\n",
              "  <tbody>\n",
              "    <tr>\n",
              "      <th>Component 1</th>\n",
              "      <td>25.057918</td>\n",
              "    </tr>\n",
              "    <tr>\n",
              "      <th>Component 10</th>\n",
              "      <td>9.921599</td>\n",
              "    </tr>\n",
              "    <tr>\n",
              "      <th>Component 2</th>\n",
              "      <td>14.979053</td>\n",
              "    </tr>\n",
              "    <tr>\n",
              "      <th>Component 3</th>\n",
              "      <td>54.857069</td>\n",
              "    </tr>\n",
              "    <tr>\n",
              "      <th>Component 4</th>\n",
              "      <td>225.181000</td>\n",
              "    </tr>\n",
              "    <tr>\n",
              "      <th>Component 5</th>\n",
              "      <td>120.034138</td>\n",
              "    </tr>\n",
              "    <tr>\n",
              "      <th>Component 6</th>\n",
              "      <td>55.024179</td>\n",
              "    </tr>\n",
              "    <tr>\n",
              "      <th>Component 7</th>\n",
              "      <td>65.309231</td>\n",
              "    </tr>\n",
              "    <tr>\n",
              "      <th>Component 8</th>\n",
              "      <td>94.957551</td>\n",
              "    </tr>\n",
              "    <tr>\n",
              "      <th>Component 9</th>\n",
              "      <td>184.997363</td>\n",
              "    </tr>\n",
              "  </tbody>\n",
              "</table>\n",
              "</div>"
            ],
            "text/plain": [
              "              Repair time\n",
              "Item                     \n",
              "Component 1     25.057918\n",
              "Component 10     9.921599\n",
              "Component 2     14.979053\n",
              "Component 3     54.857069\n",
              "Component 4    225.181000\n",
              "Component 5    120.034138\n",
              "Component 6     55.024179\n",
              "Component 7     65.309231\n",
              "Component 8     94.957551\n",
              "Component 9    184.997363"
            ]
          },
          "metadata": {
            "tags": []
          },
          "execution_count": 13
        }
      ]
    },
    {
      "cell_type": "markdown",
      "metadata": {
        "id": "qKcPeW5mn83U",
        "colab_type": "text"
      },
      "source": [
        "### *Question 3: Calculate the failure rate (failures per hour) for each item and system combination.*"
      ]
    },
    {
      "cell_type": "code",
      "metadata": {
        "id": "nBqTIBDfoUpQ",
        "colab_type": "code",
        "colab": {
          "base_uri": "https://localhost:8080/",
          "height": 204
        },
        "outputId": "5bb81da9-2f6d-4936-de1d-9bdffeb9290f"
      },
      "source": [
        "#check to see if failure observation is a date\n",
        "maintenance.info()"
      ],
      "execution_count": null,
      "outputs": [
        {
          "output_type": "stream",
          "text": [
            "<class 'pandas.core.frame.DataFrame'>\n",
            "RangeIndex: 6253 entries, 0 to 6252\n",
            "Data columns (total 4 columns):\n",
            " #   Column               Non-Null Count  Dtype  \n",
            "---  ------               --------------  -----  \n",
            " 0   Item                 6253 non-null   object \n",
            " 1   System               6253 non-null   object \n",
            " 2   Failure observation  6253 non-null   object \n",
            " 3   Repair time          6253 non-null   float64\n",
            "dtypes: float64(1), object(3)\n",
            "memory usage: 195.5+ KB\n"
          ],
          "name": "stdout"
        }
      ]
    },
    {
      "cell_type": "code",
      "metadata": {
        "id": "LwdRyjnAK6pR",
        "colab_type": "code",
        "colab": {
          "base_uri": "https://localhost:8080/",
          "height": 204
        },
        "outputId": "a6d1c698-be0d-4bdc-e28f-289ca3f23fb8"
      },
      "source": [
        "#convert failure observation to a date\n",
        "maintenance['Failure observation'] = pd.to_datetime(maintenance['Failure observation'])\n",
        "\n",
        "#doublce check failure observation is a date\n",
        "maintenance.info()"
      ],
      "execution_count": null,
      "outputs": [
        {
          "output_type": "stream",
          "text": [
            "<class 'pandas.core.frame.DataFrame'>\n",
            "RangeIndex: 6253 entries, 0 to 6252\n",
            "Data columns (total 4 columns):\n",
            " #   Column               Non-Null Count  Dtype         \n",
            "---  ------               --------------  -----         \n",
            " 0   Item                 6253 non-null   object        \n",
            " 1   System               6253 non-null   object        \n",
            " 2   Failure observation  6253 non-null   datetime64[ns]\n",
            " 3   Repair time          6253 non-null   float64       \n",
            "dtypes: datetime64[ns](1), float64(1), object(2)\n",
            "memory usage: 195.5+ KB\n"
          ],
          "name": "stdout"
        }
      ]
    },
    {
      "cell_type": "code",
      "metadata": {
        "id": "FDskyQ8KLMn-",
        "colab_type": "code",
        "colab": {
          "base_uri": "https://localhost:8080/",
          "height": 204
        },
        "outputId": "a750ac07-7909-49be-f033-ff41c3a56261"
      },
      "source": [
        "#Add column for a unique identifier of component & system combination\n",
        "maintenance['unique_id'] = maintenance['Item'] + maintenance['System']\n",
        "\n",
        "maintenance.head()"
      ],
      "execution_count": null,
      "outputs": [
        {
          "output_type": "execute_result",
          "data": {
            "text/html": [
              "<div>\n",
              "<style scoped>\n",
              "    .dataframe tbody tr th:only-of-type {\n",
              "        vertical-align: middle;\n",
              "    }\n",
              "\n",
              "    .dataframe tbody tr th {\n",
              "        vertical-align: top;\n",
              "    }\n",
              "\n",
              "    .dataframe thead th {\n",
              "        text-align: right;\n",
              "    }\n",
              "</style>\n",
              "<table border=\"1\" class=\"dataframe\">\n",
              "  <thead>\n",
              "    <tr style=\"text-align: right;\">\n",
              "      <th></th>\n",
              "      <th>Item</th>\n",
              "      <th>System</th>\n",
              "      <th>Failure observation</th>\n",
              "      <th>Repair time</th>\n",
              "      <th>unique_id</th>\n",
              "    </tr>\n",
              "  </thead>\n",
              "  <tbody>\n",
              "    <tr>\n",
              "      <th>0</th>\n",
              "      <td>Component 1</td>\n",
              "      <td>System 01</td>\n",
              "      <td>1990-03-19</td>\n",
              "      <td>23.44</td>\n",
              "      <td>Component 1System 01</td>\n",
              "    </tr>\n",
              "    <tr>\n",
              "      <th>1</th>\n",
              "      <td>Component 1</td>\n",
              "      <td>System 01</td>\n",
              "      <td>1990-08-16</td>\n",
              "      <td>23.29</td>\n",
              "      <td>Component 1System 01</td>\n",
              "    </tr>\n",
              "    <tr>\n",
              "      <th>2</th>\n",
              "      <td>Component 1</td>\n",
              "      <td>System 01</td>\n",
              "      <td>1990-09-24</td>\n",
              "      <td>20.98</td>\n",
              "      <td>Component 1System 01</td>\n",
              "    </tr>\n",
              "    <tr>\n",
              "      <th>3</th>\n",
              "      <td>Component 1</td>\n",
              "      <td>System 01</td>\n",
              "      <td>1990-12-06</td>\n",
              "      <td>21.01</td>\n",
              "      <td>Component 1System 01</td>\n",
              "    </tr>\n",
              "    <tr>\n",
              "      <th>4</th>\n",
              "      <td>Component 1</td>\n",
              "      <td>System 01</td>\n",
              "      <td>1991-01-20</td>\n",
              "      <td>29.92</td>\n",
              "      <td>Component 1System 01</td>\n",
              "    </tr>\n",
              "  </tbody>\n",
              "</table>\n",
              "</div>"
            ],
            "text/plain": [
              "          Item     System  ... Repair time             unique_id\n",
              "0  Component 1  System 01  ...       23.44  Component 1System 01\n",
              "1  Component 1  System 01  ...       23.29  Component 1System 01\n",
              "2  Component 1  System 01  ...       20.98  Component 1System 01\n",
              "3  Component 1  System 01  ...       21.01  Component 1System 01\n",
              "4  Component 1  System 01  ...       29.92  Component 1System 01\n",
              "\n",
              "[5 rows x 5 columns]"
            ]
          },
          "metadata": {
            "tags": []
          },
          "execution_count": 34
        }
      ]
    },
    {
      "cell_type": "code",
      "metadata": {
        "id": "oIcRMzSxP4gZ",
        "colab_type": "code",
        "colab": {
          "base_uri": "https://localhost:8080/",
          "height": 238
        },
        "outputId": "4f0ca159-91c5-41f2-8d36-2af81cddbb7a"
      },
      "source": [
        "#count how many per group and check with earlier section\n",
        "maintenance.groupby('unique_id')['unique_id'].count()"
      ],
      "execution_count": null,
      "outputs": [
        {
          "output_type": "execute_result",
          "data": {
            "text/plain": [
              "unique_id\n",
              "Component 10System 01     43\n",
              "Component 10System 02     54\n",
              "Component 10System 03     31\n",
              "Component 10System 04     59\n",
              "Component 10System 05     46\n",
              "                        ... \n",
              "Component 9System 04     141\n",
              "Component 9System 05     185\n",
              "Component 9System 06     165\n",
              "Component 9System 07     162\n",
              "Component 9System 08     144\n",
              "Name: unique_id, Length: 80, dtype: int64"
            ]
          },
          "metadata": {
            "tags": []
          },
          "execution_count": 54
        }
      ]
    },
    {
      "cell_type": "code",
      "metadata": {
        "id": "ahfN0pO0sXFX",
        "colab_type": "code",
        "colab": {
          "base_uri": "https://localhost:8080/",
          "height": 34
        },
        "outputId": "03391b49-87a8-4ab9-97b9-535a8ecaa32d"
      },
      "source": [
        "#make a dataframe with just Component 1 System 1 for Task 3\n",
        "comp1_sys1 = maintenance[maintenance['unique_id'] == 'Component 1System 01']\n",
        "\n",
        "comp1_sys1.shape"
      ],
      "execution_count": null,
      "outputs": [
        {
          "output_type": "execute_result",
          "data": {
            "text/plain": [
              "(121, 5)"
            ]
          },
          "metadata": {
            "tags": []
          },
          "execution_count": 60
        }
      ]
    },
    {
      "cell_type": "code",
      "metadata": {
        "id": "JlabjdCTvyw6",
        "colab_type": "code",
        "colab": {
          "base_uri": "https://localhost:8080/",
          "height": 71
        },
        "outputId": "042e4740-88da-4702-b387-81ab74689ba5"
      },
      "source": [
        "#calculate how many totaldays in data sample\n",
        "timespan = comp1_sys1.iloc[-1, 2] - comp1_sys1.iloc[0, 2]\n",
        "print(timespan.days)\n",
        "\n",
        "#caculate how many failures during data sample\n",
        "failure_interarrival_time = len(comp1_sys1) \n",
        "\n",
        "#calculate the failure rate per hour and print out answer\n",
        "print('The failure rate for Component 1 System 1 is ' + str(121 / (9172 *24)) + ' per hour assuming it runs 24 hours per day, 365 days per year.')"
      ],
      "execution_count": null,
      "outputs": [
        {
          "output_type": "stream",
          "text": [
            "9172\n",
            "The failure rate for Component 1 System 1 is 0.0005496801860735572 per hour assuming it runs 24 hours per day, 365 days per year.\n"
          ],
          "name": "stdout"
        }
      ]
    },
    {
      "cell_type": "markdown",
      "metadata": {
        "id": "HDKG9x45mr_1",
        "colab_type": "text"
      },
      "source": [
        "### *Question 4: Generate failure interarrival times (time between failures) for each item and system. What’s the expected value of the interarrival times? Does it correspond to the failure rate?*"
      ]
    },
    {
      "cell_type": "code",
      "metadata": {
        "id": "FlOmKdegoVbJ",
        "colab_type": "code",
        "colab": {
          "base_uri": "https://localhost:8080/",
          "height": 425
        },
        "outputId": "c604657e-4ca3-4874-e69d-6f542b0d016c"
      },
      "source": [
        "#create two date columns\n",
        "date1 = comp1_sys1.iloc[0:120, 2]\n",
        "date2 = comp1_sys1.iloc[1:121, 2]\n",
        "\n",
        "#reset index on second date column so the indices align\n",
        "date2 = date2.reset_index(drop=True)\n",
        "\n",
        "#double check resetting the indices worked\n",
        "print(date1)\n",
        "print(date2)"
      ],
      "execution_count": null,
      "outputs": [
        {
          "output_type": "stream",
          "text": [
            "0     1990-03-19\n",
            "1     1990-08-16\n",
            "2     1990-09-24\n",
            "3     1990-12-06\n",
            "4     1991-01-20\n",
            "         ...    \n",
            "115   2013-11-23\n",
            "116   2014-04-28\n",
            "117   2014-07-02\n",
            "118   2014-09-11\n",
            "119   2014-09-24\n",
            "Name: Failure observation, Length: 120, dtype: datetime64[ns]\n",
            "0     1990-08-16\n",
            "1     1990-09-24\n",
            "2     1990-12-06\n",
            "3     1991-01-20\n",
            "4     1991-03-30\n",
            "         ...    \n",
            "115   2014-04-28\n",
            "116   2014-07-02\n",
            "117   2014-09-11\n",
            "118   2014-09-24\n",
            "119   2015-04-29\n",
            "Name: Failure observation, Length: 120, dtype: datetime64[ns]\n"
          ],
          "name": "stdout"
        }
      ]
    },
    {
      "cell_type": "code",
      "metadata": {
        "id": "TTrgkH2U9xmx",
        "colab_type": "code",
        "colab": {
          "base_uri": "https://localhost:8080/",
          "height": 204
        },
        "outputId": "e16c554f-7882-484d-9176-8241e994561e"
      },
      "source": [
        "#merge the two date columns into one data frame\n",
        "data = {'date1': date1, 'date2': date2}\n",
        "dates11 = pd.DataFrame.from_dict(data)\n",
        "\n",
        "#double check the merge\n",
        "dates11.head()"
      ],
      "execution_count": null,
      "outputs": [
        {
          "output_type": "execute_result",
          "data": {
            "text/html": [
              "<div>\n",
              "<style scoped>\n",
              "    .dataframe tbody tr th:only-of-type {\n",
              "        vertical-align: middle;\n",
              "    }\n",
              "\n",
              "    .dataframe tbody tr th {\n",
              "        vertical-align: top;\n",
              "    }\n",
              "\n",
              "    .dataframe thead th {\n",
              "        text-align: right;\n",
              "    }\n",
              "</style>\n",
              "<table border=\"1\" class=\"dataframe\">\n",
              "  <thead>\n",
              "    <tr style=\"text-align: right;\">\n",
              "      <th></th>\n",
              "      <th>date1</th>\n",
              "      <th>date2</th>\n",
              "    </tr>\n",
              "  </thead>\n",
              "  <tbody>\n",
              "    <tr>\n",
              "      <th>0</th>\n",
              "      <td>1990-03-19</td>\n",
              "      <td>1990-08-16</td>\n",
              "    </tr>\n",
              "    <tr>\n",
              "      <th>1</th>\n",
              "      <td>1990-08-16</td>\n",
              "      <td>1990-09-24</td>\n",
              "    </tr>\n",
              "    <tr>\n",
              "      <th>2</th>\n",
              "      <td>1990-09-24</td>\n",
              "      <td>1990-12-06</td>\n",
              "    </tr>\n",
              "    <tr>\n",
              "      <th>3</th>\n",
              "      <td>1990-12-06</td>\n",
              "      <td>1991-01-20</td>\n",
              "    </tr>\n",
              "    <tr>\n",
              "      <th>4</th>\n",
              "      <td>1991-01-20</td>\n",
              "      <td>1991-03-30</td>\n",
              "    </tr>\n",
              "  </tbody>\n",
              "</table>\n",
              "</div>"
            ],
            "text/plain": [
              "       date1      date2\n",
              "0 1990-03-19 1990-08-16\n",
              "1 1990-08-16 1990-09-24\n",
              "2 1990-09-24 1990-12-06\n",
              "3 1990-12-06 1991-01-20\n",
              "4 1991-01-20 1991-03-30"
            ]
          },
          "metadata": {
            "tags": []
          },
          "execution_count": 115
        }
      ]
    },
    {
      "cell_type": "code",
      "metadata": {
        "id": "CyZw76UQQtnN",
        "colab_type": "code",
        "colab": {}
      },
      "source": [
        "#find the difference between each pair of days of failure observations\n",
        "dates11['diff_days'] = dates11['date2'] - dates11['date1']\n",
        "\n",
        "#convert answers into days\n",
        "dates11['diff_days'] = dates11['diff_days'] / np.timedelta64(1,'D')"
      ],
      "execution_count": null,
      "outputs": []
    },
    {
      "cell_type": "code",
      "metadata": {
        "id": "j0y5-5GcRIGy",
        "colab_type": "code",
        "colab": {
          "base_uri": "https://localhost:8080/",
          "height": 204
        },
        "outputId": "5b1872ad-d5ca-4c68-a24f-4dab558efb98"
      },
      "source": [
        "#double check new column\n",
        "dates11.head()"
      ],
      "execution_count": null,
      "outputs": [
        {
          "output_type": "execute_result",
          "data": {
            "text/html": [
              "<div>\n",
              "<style scoped>\n",
              "    .dataframe tbody tr th:only-of-type {\n",
              "        vertical-align: middle;\n",
              "    }\n",
              "\n",
              "    .dataframe tbody tr th {\n",
              "        vertical-align: top;\n",
              "    }\n",
              "\n",
              "    .dataframe thead th {\n",
              "        text-align: right;\n",
              "    }\n",
              "</style>\n",
              "<table border=\"1\" class=\"dataframe\">\n",
              "  <thead>\n",
              "    <tr style=\"text-align: right;\">\n",
              "      <th></th>\n",
              "      <th>date1</th>\n",
              "      <th>date2</th>\n",
              "      <th>diff_days</th>\n",
              "    </tr>\n",
              "  </thead>\n",
              "  <tbody>\n",
              "    <tr>\n",
              "      <th>0</th>\n",
              "      <td>1990-03-19</td>\n",
              "      <td>1990-08-16</td>\n",
              "      <td>150.0</td>\n",
              "    </tr>\n",
              "    <tr>\n",
              "      <th>1</th>\n",
              "      <td>1990-08-16</td>\n",
              "      <td>1990-09-24</td>\n",
              "      <td>39.0</td>\n",
              "    </tr>\n",
              "    <tr>\n",
              "      <th>2</th>\n",
              "      <td>1990-09-24</td>\n",
              "      <td>1990-12-06</td>\n",
              "      <td>73.0</td>\n",
              "    </tr>\n",
              "    <tr>\n",
              "      <th>3</th>\n",
              "      <td>1990-12-06</td>\n",
              "      <td>1991-01-20</td>\n",
              "      <td>45.0</td>\n",
              "    </tr>\n",
              "    <tr>\n",
              "      <th>4</th>\n",
              "      <td>1991-01-20</td>\n",
              "      <td>1991-03-30</td>\n",
              "      <td>69.0</td>\n",
              "    </tr>\n",
              "  </tbody>\n",
              "</table>\n",
              "</div>"
            ],
            "text/plain": [
              "       date1      date2  diff_days\n",
              "0 1990-03-19 1990-08-16      150.0\n",
              "1 1990-08-16 1990-09-24       39.0\n",
              "2 1990-09-24 1990-12-06       73.0\n",
              "3 1990-12-06 1991-01-20       45.0\n",
              "4 1991-01-20 1991-03-30       69.0"
            ]
          },
          "metadata": {
            "tags": []
          },
          "execution_count": 118
        }
      ]
    },
    {
      "cell_type": "code",
      "metadata": {
        "id": "z683R5s3HcCV",
        "colab_type": "code",
        "colab": {
          "base_uri": "https://localhost:8080/",
          "height": 34
        },
        "outputId": "6c1b79e0-592b-4d15-9df9-72a55b3b5729"
      },
      "source": [
        "#caculate and print the average number of days between failure observations\n",
        "print('The average time between failures is ' + str(dates11['diff_days'].mean()) + ' days.')"
      ],
      "execution_count": null,
      "outputs": [
        {
          "output_type": "stream",
          "text": [
            "The average time between failures is 76.43333333333334 days.\n"
          ],
          "name": "stdout"
        }
      ]
    },
    {
      "cell_type": "markdown",
      "metadata": {
        "id": "xUJHP1djkqBj",
        "colab_type": "text"
      },
      "source": [
        "### *Question 5: Create a histogram of the interarrival times for a single item. Can you draw any conclusion on the underlying distribution?*"
      ]
    },
    {
      "cell_type": "code",
      "metadata": {
        "id": "nq6mMTpVkzBV",
        "colab_type": "code",
        "colab": {
          "base_uri": "https://localhost:8080/",
          "height": 295
        },
        "outputId": "7db8a01d-a54c-47e9-c3ea-5a7ec616bc42"
      },
      "source": [
        "import matplotlib.pyplot as plt\n",
        "\n",
        "#create a histogram to show number of days between failure observations for Item 1 System 1\n",
        "dates11['diff_days'].plot.hist(grid=True, bins=30, rwidth=0.9,\n",
        "                   color='#607c8e')\n",
        "plt.title('Days Between Failure Observations for Item 1 System 1')\n",
        "plt.xlabel('Number of Days')\n",
        "plt.ylabel('Frequency')\n",
        "plt.grid(axis='y', alpha=0.75)\n",
        "plt.show()"
      ],
      "execution_count": 224,
      "outputs": [
        {
          "output_type": "display_data",
          "data": {
            "image/png": "[encoded data removed]",
            "text/plain": [
              "<Figure size 432x288 with 1 Axes>"
            ]
          },
          "metadata": {
            "tags": [],
            "needs_background": "light"
          }
        }
      ]
    },
    {
      "cell_type": "markdown",
      "metadata": {
        "id": "5uxD0lj7SAln",
        "colab_type": "text"
      },
      "source": [
        "# Task 2: Parse LSA Records"
      ]
    },
    {
      "cell_type": "markdown",
      "metadata": {
        "id": "1ny9e-4CpR_m",
        "colab_type": "text"
      },
      "source": [
        "### *Option 1: Single Line LSA*"
      ]
    },
    {
      "cell_type": "code",
      "metadata": {
        "id": "RF78Pf7npYoP",
        "colab_type": "code",
        "colab": {
          "resources": {
            "http://localhost:8080/nbextensions/google.colab/files.js": {
              "data": "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",
              "ok": true,
              "headers": [
                [
                  "content-type",
                  "application/javascript"
                ]
              ],
              "status": 200,
              "status_text": ""
            }
          },
          "base_uri": "https://localhost:8080/",
          "height": 72
        },
        "outputId": "0df4c738-b569-4a14-d3e4-ad5cb2bd8523"
      },
      "source": [
        "from google.colab import files\n",
        "uploaded = files.upload()"
      ],
      "execution_count": null,
      "outputs": [
        {
          "output_type": "display_data",
          "data": {
            "text/html": [
              "\n",
              "     <input type=\"file\" id=\"files-324ba340-4a79-4715-ac6b-e15411cb9b55\" name=\"files[]\" multiple disabled\n",
              "        style=\"border:none\" />\n",
              "     <output id=\"result-324ba340-4a79-4715-ac6b-e15411cb9b55\">\n",
              "      Upload widget is only available when the cell has been executed in the\n",
              "      current browser session. Please rerun this cell to enable.\n",
              "      </output>\n",
              "      <script src=\"/nbextensions/google.colab/files.js\"></script> "
            ],
            "text/plain": [
              "<IPython.core.display.HTML object>"
            ]
          },
          "metadata": {
            "tags": []
          }
        },
        {
          "output_type": "stream",
          "text": [
            "Saving lsa_single_line.txt to lsa_single_line (1).txt\n"
          ],
          "name": "stdout"
        }
      ]
    },
    {
      "cell_type": "code",
      "metadata": {
        "id": "BEp8c0UtTJYp",
        "colab_type": "code",
        "colab": {}
      },
      "source": [
        "import io\n",
        "single_line = pd.read_csv(io.BytesIO(uploaded['lsa_single_line.txt']), names=['Col1','Col2'])"
      ],
      "execution_count": null,
      "outputs": []
    },
    {
      "cell_type": "code",
      "metadata": {
        "id": "swuuBcctTWDV",
        "colab_type": "code",
        "colab": {
          "base_uri": "https://localhost:8080/",
          "height": 204
        },
        "outputId": "3f40b221-3ead-423a-f10a-8b0ed775d2a3"
      },
      "source": [
        "single_line.head()"
      ],
      "execution_count": null,
      "outputs": [
        {
          "output_type": "execute_result",
          "data": {
            "text/html": [
              "<div>\n",
              "<style scoped>\n",
              "    .dataframe tbody tr th:only-of-type {\n",
              "        vertical-align: middle;\n",
              "    }\n",
              "\n",
              "    .dataframe tbody tr th {\n",
              "        vertical-align: top;\n",
              "    }\n",
              "\n",
              "    .dataframe thead th {\n",
              "        text-align: right;\n",
              "    }\n",
              "</style>\n",
              "<table border=\"1\" class=\"dataframe\">\n",
              "  <thead>\n",
              "    <tr style=\"text-align: right;\">\n",
              "      <th></th>\n",
              "      <th>Col1</th>\n",
              "      <th>Col2</th>\n",
              "    </tr>\n",
              "  </thead>\n",
              "  <tbody>\n",
              "    <tr>\n",
              "      <th>0</th>\n",
              "      <td>C1234AAAAA ATESTBENCH                         ...</td>\n",
              "      <td>NaN</td>\n",
              "    </tr>\n",
              "    <tr>\n",
              "      <th>1</th>\n",
              "      <td>C1234ABAAA ATBU01       11000   237.75  AAAA 4...</td>\n",
              "      <td>NaN</td>\n",
              "    </tr>\n",
              "    <tr>\n",
              "      <th>2</th>\n",
              "      <td>C1234ABAAB ATBU02       1986    15.89999AAAA 4...</td>\n",
              "      <td>NaN</td>\n",
              "    </tr>\n",
              "    <tr>\n",
              "      <th>3</th>\n",
              "      <td>C1234ABAAC ATBU03       3971    50.99000AAAA 8...</td>\n",
              "      <td>NaN</td>\n",
              "    </tr>\n",
              "    <tr>\n",
              "      <th>4</th>\n",
              "      <td>C1234ABAAD ATBU04       1171    46.59999AAAA 4...</td>\n",
              "      <td>NaN</td>\n",
              "    </tr>\n",
              "  </tbody>\n",
              "</table>\n",
              "</div>"
            ],
            "text/plain": [
              "                                                Col1  Col2\n",
              "0  C1234AAAAA ATESTBENCH                         ...   NaN\n",
              "1  C1234ABAAA ATBU01       11000   237.75  AAAA 4...   NaN\n",
              "2  C1234ABAAB ATBU02       1986    15.89999AAAA 4...   NaN\n",
              "3  C1234ABAAC ATBU03       3971    50.99000AAAA 8...   NaN\n",
              "4  C1234ABAAD ATBU04       1171    46.59999AAAA 4...   NaN"
            ]
          },
          "metadata": {
            "tags": []
          },
          "execution_count": 146
        }
      ]
    },
    {
      "cell_type": "code",
      "metadata": {
        "id": "2LvRxNOCWz4U",
        "colab_type": "code",
        "colab": {}
      },
      "source": [
        "#parse out different columns\n",
        "single_line['pccn'] = single_line['Col1'].str.slice(stop=6)\n",
        "\n",
        "single_line['plisn'] = single_line['Col1'].str.slice(start=6,stop=11)\n",
        "\n",
        "single_line['Cfi'] = single_line['Col1'].str.slice(start=11,stop=12)\n",
        "\n",
        "single_line['item_name'] = single_line['Col1'].str.slice(start=12,stop=24)\n",
        "\n",
        "single_line['unit_price'] = single_line['Col1'].str.slice(start=24,stop=32)\n",
        "\n",
        "single_line['failure_rate'] = single_line['Col1'].str.slice(start=32,stop=40)\n",
        "\n",
        "single_line['next_higher_plisn'] = single_line['Col1'].str.slice(start=40,stop=45)\n",
        "\n",
        "single_line['qty_per_assembly'] = single_line['Col1'].str.slice(start=45,stop=50)"
      ],
      "execution_count": null,
      "outputs": []
    },
    {
      "cell_type": "code",
      "metadata": {
        "id": "04SejmJ-fHhd",
        "colab_type": "code",
        "colab": {}
      },
      "source": [
        "#drop extra columns\n",
        "single_line = single_line.drop(['Col1','Col2'], axis=1)\n"
      ],
      "execution_count": null,
      "outputs": []
    },
    {
      "cell_type": "code",
      "metadata": {
        "id": "7rKCZwSla9pV",
        "colab_type": "code",
        "colab": {
          "base_uri": "https://localhost:8080/",
          "height": 359
        },
        "outputId": "a2743f65-0bc0-4b81-d103-0604d505fab9"
      },
      "source": [
        "#double check\n",
        "single_line.head(10)"
      ],
      "execution_count": null,
      "outputs": [
        {
          "output_type": "execute_result",
          "data": {
            "text/html": [
              "<div>\n",
              "<style scoped>\n",
              "    .dataframe tbody tr th:only-of-type {\n",
              "        vertical-align: middle;\n",
              "    }\n",
              "\n",
              "    .dataframe tbody tr th {\n",
              "        vertical-align: top;\n",
              "    }\n",
              "\n",
              "    .dataframe thead th {\n",
              "        text-align: right;\n",
              "    }\n",
              "</style>\n",
              "<table border=\"1\" class=\"dataframe\">\n",
              "  <thead>\n",
              "    <tr style=\"text-align: right;\">\n",
              "      <th></th>\n",
              "      <th>pccn</th>\n",
              "      <th>plisn</th>\n",
              "      <th>Cfi</th>\n",
              "      <th>item_name</th>\n",
              "      <th>unit_price</th>\n",
              "      <th>failure_rate</th>\n",
              "      <th>next_higher_plisn</th>\n",
              "      <th>qty_per_assembly</th>\n",
              "    </tr>\n",
              "  </thead>\n",
              "  <tbody>\n",
              "    <tr>\n",
              "      <th>0</th>\n",
              "      <td>C1234A</td>\n",
              "      <td>AAAA</td>\n",
              "      <td>A</td>\n",
              "      <td>TESTBENCH</td>\n",
              "      <td></td>\n",
              "      <td></td>\n",
              "      <td></td>\n",
              "      <td></td>\n",
              "    </tr>\n",
              "    <tr>\n",
              "      <th>1</th>\n",
              "      <td>C1234A</td>\n",
              "      <td>BAAA</td>\n",
              "      <td>A</td>\n",
              "      <td>TBU01</td>\n",
              "      <td>11000</td>\n",
              "      <td>237.75</td>\n",
              "      <td>AAAA</td>\n",
              "      <td>4</td>\n",
              "    </tr>\n",
              "    <tr>\n",
              "      <th>2</th>\n",
              "      <td>C1234A</td>\n",
              "      <td>BAAB</td>\n",
              "      <td>A</td>\n",
              "      <td>TBU02</td>\n",
              "      <td>1986</td>\n",
              "      <td>15.89999</td>\n",
              "      <td>AAAA</td>\n",
              "      <td>4</td>\n",
              "    </tr>\n",
              "    <tr>\n",
              "      <th>3</th>\n",
              "      <td>C1234A</td>\n",
              "      <td>BAAC</td>\n",
              "      <td>A</td>\n",
              "      <td>TBU03</td>\n",
              "      <td>3971</td>\n",
              "      <td>50.99000</td>\n",
              "      <td>AAAA</td>\n",
              "      <td>8</td>\n",
              "    </tr>\n",
              "    <tr>\n",
              "      <th>4</th>\n",
              "      <td>C1234A</td>\n",
              "      <td>BAAD</td>\n",
              "      <td>A</td>\n",
              "      <td>TBU04</td>\n",
              "      <td>1171</td>\n",
              "      <td>46.59999</td>\n",
              "      <td>AAAA</td>\n",
              "      <td>40</td>\n",
              "    </tr>\n",
              "    <tr>\n",
              "      <th>5</th>\n",
              "      <td>C1234A</td>\n",
              "      <td>BAAE</td>\n",
              "      <td>A</td>\n",
              "      <td>TBU05</td>\n",
              "      <td>1229</td>\n",
              "      <td>113.9000</td>\n",
              "      <td>AAAA</td>\n",
              "      <td>4</td>\n",
              "    </tr>\n",
              "    <tr>\n",
              "      <th>6</th>\n",
              "      <td>C1234A</td>\n",
              "      <td>BAAF</td>\n",
              "      <td>A</td>\n",
              "      <td>TBU06</td>\n",
              "      <td>1021</td>\n",
              "      <td>27</td>\n",
              "      <td>AAAA</td>\n",
              "      <td>4</td>\n",
              "    </tr>\n",
              "    <tr>\n",
              "      <th>7</th>\n",
              "      <td>C1234A</td>\n",
              "      <td>BAAG</td>\n",
              "      <td>A</td>\n",
              "      <td>TBU07</td>\n",
              "      <td>1393</td>\n",
              "      <td>68</td>\n",
              "      <td>AAAA</td>\n",
              "      <td>1</td>\n",
              "    </tr>\n",
              "    <tr>\n",
              "      <th>8</th>\n",
              "      <td>C1234A</td>\n",
              "      <td>BAAH</td>\n",
              "      <td>A</td>\n",
              "      <td>TBU08</td>\n",
              "      <td>250</td>\n",
              "      <td>68</td>\n",
              "      <td>AAAA</td>\n",
              "      <td>1</td>\n",
              "    </tr>\n",
              "    <tr>\n",
              "      <th>9</th>\n",
              "      <td>C1234A</td>\n",
              "      <td>BAAI</td>\n",
              "      <td>A</td>\n",
              "      <td>TBU09</td>\n",
              "      <td>557</td>\n",
              "      <td>73.69999</td>\n",
              "      <td>AAAA</td>\n",
              "      <td>4</td>\n",
              "    </tr>\n",
              "  </tbody>\n",
              "</table>\n",
              "</div>"
            ],
            "text/plain": [
              "     pccn  plisn Cfi  ... failure_rate next_higher_plisn qty_per_assembly\n",
              "0  C1234A  AAAA    A  ...                                                \n",
              "1  C1234A  BAAA    A  ...     237.75               AAAA             4    \n",
              "2  C1234A  BAAB    A  ...     15.89999             AAAA             4    \n",
              "3  C1234A  BAAC    A  ...     50.99000             AAAA             8    \n",
              "4  C1234A  BAAD    A  ...     46.59999             AAAA             40   \n",
              "5  C1234A  BAAE    A  ...     113.9000             AAAA             4    \n",
              "6  C1234A  BAAF    A  ...     27                   AAAA             4    \n",
              "7  C1234A  BAAG    A  ...     68                   AAAA             1    \n",
              "8  C1234A  BAAH    A  ...     68                   AAAA             1    \n",
              "9  C1234A  BAAI    A  ...     73.69999             AAAA             4    \n",
              "\n",
              "[10 rows x 8 columns]"
            ]
          },
          "metadata": {
            "tags": []
          },
          "execution_count": 149
        }
      ]
    },
    {
      "cell_type": "code",
      "metadata": {
        "id": "M2cK5pLMgNif",
        "colab_type": "code",
        "colab": {
          "base_uri": "https://localhost:8080/",
          "height": 17
        },
        "outputId": "60161e10-ba76-4e29-dc66-ca7c926346ca"
      },
      "source": [
        "#export the csv file\n",
        "from google.colab import files\n",
        "single_line.to_csv('single_line.csv') \n",
        "files.download('single_line.csv')"
      ],
      "execution_count": null,
      "outputs": [
        {
          "output_type": "display_data",
          "data": {
            "application/javascript": [
              "\n",
              "    async function download(id, filename, size) {\n",
              "      if (!google.colab.kernel.accessAllowed) {\n",
              "        return;\n",
              "      }\n",
              "      const div = document.createElement('div');\n",
              "      const label = document.createElement('label');\n",
              "      label.textContent = `Downloading \"${filename}\": `;\n",
              "      div.appendChild(label);\n",
              "      const progress = document.createElement('progress');\n",
              "      progress.max = size;\n",
              "      div.appendChild(progress);\n",
              "      document.body.appendChild(div);\n",
              "\n",
              "      const buffers = [];\n",
              "      let downloaded = 0;\n",
              "\n",
              "      const channel = await google.colab.kernel.comms.open(id);\n",
              "      // Send a message to notify the kernel that we're ready.\n",
              "      channel.send({})\n",
              "\n",
              "      for await (const message of channel.messages) {\n",
              "        // Send a message to notify the kernel that we're ready.\n",
              "        channel.send({})\n",
              "        if (message.buffers) {\n",
              "          for (const buffer of message.buffers) {\n",
              "            buffers.push(buffer);\n",
              "            downloaded += buffer.byteLength;\n",
              "            progress.value = downloaded;\n",
              "          }\n",
              "        }\n",
              "      }\n",
              "      const blob = new Blob(buffers, {type: 'application/binary'});\n",
              "      const a = document.createElement('a');\n",
              "      a.href = window.URL.createObjectURL(blob);\n",
              "      a.download = filename;\n",
              "      div.appendChild(a);\n",
              "      a.click();\n",
              "      div.remove();\n",
              "    }\n",
              "  "
            ],
            "text/plain": [
              "<IPython.core.display.Javascript object>"
            ]
          },
          "metadata": {
            "tags": []
          }
        },
        {
          "output_type": "display_data",
          "data": {
            "application/javascript": [
              "download(\"download_74d50f65-78ec-4d8d-b824-57ccabf66992\", \"single_line.csv\", 2088)"
            ],
            "text/plain": [
              "<IPython.core.display.Javascript object>"
            ]
          },
          "metadata": {
            "tags": []
          }
        }
      ]
    },
    {
      "cell_type": "markdown",
      "metadata": {
        "id": "tDBVqk53paBj",
        "colab_type": "text"
      },
      "source": [
        "### *Option 2: Multi Line LSA*"
      ]
    },
    {
      "cell_type": "code",
      "metadata": {
        "id": "jyLEp6rUpghc",
        "colab_type": "code",
        "colab": {
          "resources": {
            "http://localhost:8080/nbextensions/google.colab/files.js": {
              "data": "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",
              "ok": true,
              "headers": [
                [
                  "content-type",
                  "application/javascript"
                ]
              ],
              "status": 200,
              "status_text": ""
            }
          },
          "base_uri": "https://localhost:8080/",
          "height": 72
        },
        "outputId": "13ecaa48-fbc5-46d6-f859-4fa211c48db8"
      },
      "source": [
        "from google.colab import files\n",
        "uploaded = files.upload()"
      ],
      "execution_count": null,
      "outputs": [
        {
          "output_type": "display_data",
          "data": {
            "text/html": [
              "\n",
              "     <input type=\"file\" id=\"files-6ca25f8b-a535-44c0-b529-a4ffd7634c44\" name=\"files[]\" multiple disabled\n",
              "        style=\"border:none\" />\n",
              "     <output id=\"result-6ca25f8b-a535-44c0-b529-a4ffd7634c44\">\n",
              "      Upload widget is only available when the cell has been executed in the\n",
              "      current browser session. Please rerun this cell to enable.\n",
              "      </output>\n",
              "      <script src=\"/nbextensions/google.colab/files.js\"></script> "
            ],
            "text/plain": [
              "<IPython.core.display.HTML object>"
            ]
          },
          "metadata": {
            "tags": []
          }
        },
        {
          "output_type": "stream",
          "text": [
            "Saving lsa_multi_line.txt to lsa_multi_line.txt\n"
          ],
          "name": "stdout"
        }
      ]
    },
    {
      "cell_type": "code",
      "metadata": {
        "id": "ywuYQ7KXnP8P",
        "colab_type": "code",
        "colab": {}
      },
      "source": [
        "import io\n",
        "multi_line = pd.read_csv(io.BytesIO(uploaded['lsa_multi_line.txt']), names=\"C\")"
      ],
      "execution_count": null,
      "outputs": []
    },
    {
      "cell_type": "code",
      "metadata": {
        "id": "DVEeWtt_nb4L",
        "colab_type": "code",
        "colab": {
          "base_uri": "https://localhost:8080/",
          "height": 359
        },
        "outputId": "e30b42d4-00f2-4875-932e-94b1dbf5bbc1"
      },
      "source": [
        "multi_line.head(10)"
      ],
      "execution_count": null,
      "outputs": [
        {
          "output_type": "execute_result",
          "data": {
            "text/html": [
              "<div>\n",
              "<style scoped>\n",
              "    .dataframe tbody tr th:only-of-type {\n",
              "        vertical-align: middle;\n",
              "    }\n",
              "\n",
              "    .dataframe tbody tr th {\n",
              "        vertical-align: top;\n",
              "    }\n",
              "\n",
              "    .dataframe thead th {\n",
              "        text-align: right;\n",
              "    }\n",
              "</style>\n",
              "<table border=\"1\" class=\"dataframe\">\n",
              "  <thead>\n",
              "    <tr style=\"text-align: right;\">\n",
              "      <th></th>\n",
              "      <th>C</th>\n",
              "    </tr>\n",
              "  </thead>\n",
              "  <tbody>\n",
              "    <tr>\n",
              "      <th>0</th>\n",
              "      <td>C1234AAAAA ATESTBENCH</td>\n",
              "    </tr>\n",
              "    <tr>\n",
              "      <th>1</th>\n",
              "      <td>C1234AAAAA B</td>\n",
              "    </tr>\n",
              "    <tr>\n",
              "      <th>2</th>\n",
              "      <td>C1234ABAAA ATBU01       11000   237.75</td>\n",
              "    </tr>\n",
              "    <tr>\n",
              "      <th>3</th>\n",
              "      <td>C1234ABAAA BAAAA 4</td>\n",
              "    </tr>\n",
              "    <tr>\n",
              "      <th>4</th>\n",
              "      <td>C1234ABAAB ATBU02       1986    15.89999</td>\n",
              "    </tr>\n",
              "    <tr>\n",
              "      <th>5</th>\n",
              "      <td>C1234ABAAB BAAAA 4</td>\n",
              "    </tr>\n",
              "    <tr>\n",
              "      <th>6</th>\n",
              "      <td>C1234ABAAC ATBU03       3971    50.99000</td>\n",
              "    </tr>\n",
              "    <tr>\n",
              "      <th>7</th>\n",
              "      <td>C1234ABAAC BAAAA 8</td>\n",
              "    </tr>\n",
              "    <tr>\n",
              "      <th>8</th>\n",
              "      <td>C1234ABAAD ATBU04       1171    46.59999</td>\n",
              "    </tr>\n",
              "    <tr>\n",
              "      <th>9</th>\n",
              "      <td>C1234ABAAD BAAAA 40</td>\n",
              "    </tr>\n",
              "  </tbody>\n",
              "</table>\n",
              "</div>"
            ],
            "text/plain": [
              "                                          C\n",
              "0  C1234AAAAA ATESTBENCH                   \n",
              "1  C1234AAAAA B                            \n",
              "2  C1234ABAAA ATBU01       11000   237.75  \n",
              "3  C1234ABAAA BAAAA 4                      \n",
              "4  C1234ABAAB ATBU02       1986    15.89999\n",
              "5  C1234ABAAB BAAAA 4                      \n",
              "6  C1234ABAAC ATBU03       3971    50.99000\n",
              "7  C1234ABAAC BAAAA 8                      \n",
              "8  C1234ABAAD ATBU04       1171    46.59999\n",
              "9  C1234ABAAD BAAAA 40                     "
            ]
          },
          "metadata": {
            "tags": []
          },
          "execution_count": 195
        }
      ]
    },
    {
      "cell_type": "code",
      "metadata": {
        "id": "7czRbe_xqQ1Y",
        "colab_type": "code",
        "colab": {
          "base_uri": "https://localhost:8080/",
          "height": 359
        },
        "outputId": "9b361a5a-a12b-42e5-ef50-bc60a1dae221"
      },
      "source": [
        "#Split off the odd rows\n",
        "multi_line_odd = multi_line.iloc[lambda x: x.index % 2 == 0].reset_index(drop=True)\n",
        "\n",
        "multi_line_odd.head(10)"
      ],
      "execution_count": null,
      "outputs": [
        {
          "output_type": "execute_result",
          "data": {
            "text/html": [
              "<div>\n",
              "<style scoped>\n",
              "    .dataframe tbody tr th:only-of-type {\n",
              "        vertical-align: middle;\n",
              "    }\n",
              "\n",
              "    .dataframe tbody tr th {\n",
              "        vertical-align: top;\n",
              "    }\n",
              "\n",
              "    .dataframe thead th {\n",
              "        text-align: right;\n",
              "    }\n",
              "</style>\n",
              "<table border=\"1\" class=\"dataframe\">\n",
              "  <thead>\n",
              "    <tr style=\"text-align: right;\">\n",
              "      <th></th>\n",
              "      <th>C</th>\n",
              "    </tr>\n",
              "  </thead>\n",
              "  <tbody>\n",
              "    <tr>\n",
              "      <th>0</th>\n",
              "      <td>C1234AAAAA ATESTBENCH</td>\n",
              "    </tr>\n",
              "    <tr>\n",
              "      <th>1</th>\n",
              "      <td>C1234ABAAA ATBU01       11000   237.75</td>\n",
              "    </tr>\n",
              "    <tr>\n",
              "      <th>2</th>\n",
              "      <td>C1234ABAAB ATBU02       1986    15.89999</td>\n",
              "    </tr>\n",
              "    <tr>\n",
              "      <th>3</th>\n",
              "      <td>C1234ABAAC ATBU03       3971    50.99000</td>\n",
              "    </tr>\n",
              "    <tr>\n",
              "      <th>4</th>\n",
              "      <td>C1234ABAAD ATBU04       1171    46.59999</td>\n",
              "    </tr>\n",
              "    <tr>\n",
              "      <th>5</th>\n",
              "      <td>C1234ABAAE ATBU05       1229    113.9000</td>\n",
              "    </tr>\n",
              "    <tr>\n",
              "      <th>6</th>\n",
              "      <td>C1234ABAAF ATBU06       1021    27</td>\n",
              "    </tr>\n",
              "    <tr>\n",
              "      <th>7</th>\n",
              "      <td>C1234ABAAG ATBU07       1393    68</td>\n",
              "    </tr>\n",
              "    <tr>\n",
              "      <th>8</th>\n",
              "      <td>C1234ABAAH ATBU08       250     68</td>\n",
              "    </tr>\n",
              "    <tr>\n",
              "      <th>9</th>\n",
              "      <td>C1234ABAAI ATBU09       557     73.69999</td>\n",
              "    </tr>\n",
              "  </tbody>\n",
              "</table>\n",
              "</div>"
            ],
            "text/plain": [
              "                                          C\n",
              "0  C1234AAAAA ATESTBENCH                   \n",
              "1  C1234ABAAA ATBU01       11000   237.75  \n",
              "2  C1234ABAAB ATBU02       1986    15.89999\n",
              "3  C1234ABAAC ATBU03       3971    50.99000\n",
              "4  C1234ABAAD ATBU04       1171    46.59999\n",
              "5  C1234ABAAE ATBU05       1229    113.9000\n",
              "6  C1234ABAAF ATBU06       1021    27      \n",
              "7  C1234ABAAG ATBU07       1393    68      \n",
              "8  C1234ABAAH ATBU08       250     68      \n",
              "9  C1234ABAAI ATBU09       557     73.69999"
            ]
          },
          "metadata": {
            "tags": []
          },
          "execution_count": 196
        }
      ]
    },
    {
      "cell_type": "code",
      "metadata": {
        "id": "nK_O3BfLq1Sj",
        "colab_type": "code",
        "colab": {
          "base_uri": "https://localhost:8080/",
          "height": 359
        },
        "outputId": "b57c8502-db3f-4a2f-cd84-598153340e23"
      },
      "source": [
        "#Split off the even rows\n",
        "multi_line_even = multi_line.iloc[lambda x: x.index % 2 != 0].reset_index(drop=True)\n",
        "\n",
        "\n",
        "multi_line_even.head(10)"
      ],
      "execution_count": null,
      "outputs": [
        {
          "output_type": "execute_result",
          "data": {
            "text/html": [
              "<div>\n",
              "<style scoped>\n",
              "    .dataframe tbody tr th:only-of-type {\n",
              "        vertical-align: middle;\n",
              "    }\n",
              "\n",
              "    .dataframe tbody tr th {\n",
              "        vertical-align: top;\n",
              "    }\n",
              "\n",
              "    .dataframe thead th {\n",
              "        text-align: right;\n",
              "    }\n",
              "</style>\n",
              "<table border=\"1\" class=\"dataframe\">\n",
              "  <thead>\n",
              "    <tr style=\"text-align: right;\">\n",
              "      <th></th>\n",
              "      <th>C</th>\n",
              "    </tr>\n",
              "  </thead>\n",
              "  <tbody>\n",
              "    <tr>\n",
              "      <th>0</th>\n",
              "      <td>C1234AAAAA B</td>\n",
              "    </tr>\n",
              "    <tr>\n",
              "      <th>1</th>\n",
              "      <td>C1234ABAAA BAAAA 4</td>\n",
              "    </tr>\n",
              "    <tr>\n",
              "      <th>2</th>\n",
              "      <td>C1234ABAAB BAAAA 4</td>\n",
              "    </tr>\n",
              "    <tr>\n",
              "      <th>3</th>\n",
              "      <td>C1234ABAAC BAAAA 8</td>\n",
              "    </tr>\n",
              "    <tr>\n",
              "      <th>4</th>\n",
              "      <td>C1234ABAAD BAAAA 40</td>\n",
              "    </tr>\n",
              "    <tr>\n",
              "      <th>5</th>\n",
              "      <td>C1234ABAAE BAAAA 4</td>\n",
              "    </tr>\n",
              "    <tr>\n",
              "      <th>6</th>\n",
              "      <td>C1234ABAAF BAAAA 4</td>\n",
              "    </tr>\n",
              "    <tr>\n",
              "      <th>7</th>\n",
              "      <td>C1234ABAAG BAAAA 1</td>\n",
              "    </tr>\n",
              "    <tr>\n",
              "      <th>8</th>\n",
              "      <td>C1234ABAAH BAAAA 1</td>\n",
              "    </tr>\n",
              "    <tr>\n",
              "      <th>9</th>\n",
              "      <td>C1234ABAAI BAAAA 4</td>\n",
              "    </tr>\n",
              "  </tbody>\n",
              "</table>\n",
              "</div>"
            ],
            "text/plain": [
              "                                          C\n",
              "0  C1234AAAAA B                            \n",
              "1  C1234ABAAA BAAAA 4                      \n",
              "2  C1234ABAAB BAAAA 4                      \n",
              "3  C1234ABAAC BAAAA 8                      \n",
              "4  C1234ABAAD BAAAA 40                     \n",
              "5  C1234ABAAE BAAAA 4                      \n",
              "6  C1234ABAAF BAAAA 4                      \n",
              "7  C1234ABAAG BAAAA 1                      \n",
              "8  C1234ABAAH BAAAA 1                      \n",
              "9  C1234ABAAI BAAAA 4                      "
            ]
          },
          "metadata": {
            "tags": []
          },
          "execution_count": 197
        }
      ]
    },
    {
      "cell_type": "code",
      "metadata": {
        "id": "c_xwyCl9xnN-",
        "colab_type": "code",
        "colab": {
          "base_uri": "https://localhost:8080/",
          "height": 359
        },
        "outputId": "6b8b14f3-4056-4c92-f89a-153d1c4f04bc"
      },
      "source": [
        "#merge the odd and even rows back together, so that each item is on one line\n",
        "merged_multi_line = multi_line_odd.merge(multi_line_even, left_index=True, right_index=True)\n",
        "\n",
        "merged_multi_line.head(10)\n"
      ],
      "execution_count": null,
      "outputs": [
        {
          "output_type": "execute_result",
          "data": {
            "text/html": [
              "<div>\n",
              "<style scoped>\n",
              "    .dataframe tbody tr th:only-of-type {\n",
              "        vertical-align: middle;\n",
              "    }\n",
              "\n",
              "    .dataframe tbody tr th {\n",
              "        vertical-align: top;\n",
              "    }\n",
              "\n",
              "    .dataframe thead th {\n",
              "        text-align: right;\n",
              "    }\n",
              "</style>\n",
              "<table border=\"1\" class=\"dataframe\">\n",
              "  <thead>\n",
              "    <tr style=\"text-align: right;\">\n",
              "      <th></th>\n",
              "      <th>C_x</th>\n",
              "      <th>C_y</th>\n",
              "    </tr>\n",
              "  </thead>\n",
              "  <tbody>\n",
              "    <tr>\n",
              "      <th>0</th>\n",
              "      <td>C1234AAAAA ATESTBENCH</td>\n",
              "      <td>C1234AAAAA B</td>\n",
              "    </tr>\n",
              "    <tr>\n",
              "      <th>1</th>\n",
              "      <td>C1234ABAAA ATBU01       11000   237.75</td>\n",
              "      <td>C1234ABAAA BAAAA 4</td>\n",
              "    </tr>\n",
              "    <tr>\n",
              "      <th>2</th>\n",
              "      <td>C1234ABAAB ATBU02       1986    15.89999</td>\n",
              "      <td>C1234ABAAB BAAAA 4</td>\n",
              "    </tr>\n",
              "    <tr>\n",
              "      <th>3</th>\n",
              "      <td>C1234ABAAC ATBU03       3971    50.99000</td>\n",
              "      <td>C1234ABAAC BAAAA 8</td>\n",
              "    </tr>\n",
              "    <tr>\n",
              "      <th>4</th>\n",
              "      <td>C1234ABAAD ATBU04       1171    46.59999</td>\n",
              "      <td>C1234ABAAD BAAAA 40</td>\n",
              "    </tr>\n",
              "    <tr>\n",
              "      <th>5</th>\n",
              "      <td>C1234ABAAE ATBU05       1229    113.9000</td>\n",
              "      <td>C1234ABAAE BAAAA 4</td>\n",
              "    </tr>\n",
              "    <tr>\n",
              "      <th>6</th>\n",
              "      <td>C1234ABAAF ATBU06       1021    27</td>\n",
              "      <td>C1234ABAAF BAAAA 4</td>\n",
              "    </tr>\n",
              "    <tr>\n",
              "      <th>7</th>\n",
              "      <td>C1234ABAAG ATBU07       1393    68</td>\n",
              "      <td>C1234ABAAG BAAAA 1</td>\n",
              "    </tr>\n",
              "    <tr>\n",
              "      <th>8</th>\n",
              "      <td>C1234ABAAH ATBU08       250     68</td>\n",
              "      <td>C1234ABAAH BAAAA 1</td>\n",
              "    </tr>\n",
              "    <tr>\n",
              "      <th>9</th>\n",
              "      <td>C1234ABAAI ATBU09       557     73.69999</td>\n",
              "      <td>C1234ABAAI BAAAA 4</td>\n",
              "    </tr>\n",
              "  </tbody>\n",
              "</table>\n",
              "</div>"
            ],
            "text/plain": [
              "                                        C_x                                       C_y\n",
              "0  C1234AAAAA ATESTBENCH                     C1234AAAAA B                            \n",
              "1  C1234ABAAA ATBU01       11000   237.75    C1234ABAAA BAAAA 4                      \n",
              "2  C1234ABAAB ATBU02       1986    15.89999  C1234ABAAB BAAAA 4                      \n",
              "3  C1234ABAAC ATBU03       3971    50.99000  C1234ABAAC BAAAA 8                      \n",
              "4  C1234ABAAD ATBU04       1171    46.59999  C1234ABAAD BAAAA 40                     \n",
              "5  C1234ABAAE ATBU05       1229    113.9000  C1234ABAAE BAAAA 4                      \n",
              "6  C1234ABAAF ATBU06       1021    27        C1234ABAAF BAAAA 4                      \n",
              "7  C1234ABAAG ATBU07       1393    68        C1234ABAAG BAAAA 1                      \n",
              "8  C1234ABAAH ATBU08       250     68        C1234ABAAH BAAAA 1                      \n",
              "9  C1234ABAAI ATBU09       557     73.69999  C1234ABAAI BAAAA 4                      "
            ]
          },
          "metadata": {
            "tags": []
          },
          "execution_count": 198
        }
      ]
    },
    {
      "cell_type": "code",
      "metadata": {
        "id": "BO3Rhu7_yjDR",
        "colab_type": "code",
        "colab": {
          "base_uri": "https://localhost:8080/",
          "height": 204
        },
        "outputId": "0173d22e-d5b2-4c67-cb55-913d146458db"
      },
      "source": [
        "#Combine the two columns into one column so that it can be parsed\n",
        "merged_multi_line['Col1'] = merged_multi_line['C_x'] + merged_multi_line['C_y']\n",
        "\n",
        "merged_multi_line.head()\n"
      ],
      "execution_count": null,
      "outputs": [
        {
          "output_type": "execute_result",
          "data": {
            "text/html": [
              "<div>\n",
              "<style scoped>\n",
              "    .dataframe tbody tr th:only-of-type {\n",
              "        vertical-align: middle;\n",
              "    }\n",
              "\n",
              "    .dataframe tbody tr th {\n",
              "        vertical-align: top;\n",
              "    }\n",
              "\n",
              "    .dataframe thead th {\n",
              "        text-align: right;\n",
              "    }\n",
              "</style>\n",
              "<table border=\"1\" class=\"dataframe\">\n",
              "  <thead>\n",
              "    <tr style=\"text-align: right;\">\n",
              "      <th></th>\n",
              "      <th>C_x</th>\n",
              "      <th>C_y</th>\n",
              "      <th>Col1</th>\n",
              "    </tr>\n",
              "  </thead>\n",
              "  <tbody>\n",
              "    <tr>\n",
              "      <th>0</th>\n",
              "      <td>C1234AAAAA ATESTBENCH</td>\n",
              "      <td>C1234AAAAA B</td>\n",
              "      <td>C1234AAAAA ATESTBENCH                   C1234A...</td>\n",
              "    </tr>\n",
              "    <tr>\n",
              "      <th>1</th>\n",
              "      <td>C1234ABAAA ATBU01       11000   237.75</td>\n",
              "      <td>C1234ABAAA BAAAA 4</td>\n",
              "      <td>C1234ABAAA ATBU01       11000   237.75  C1234A...</td>\n",
              "    </tr>\n",
              "    <tr>\n",
              "      <th>2</th>\n",
              "      <td>C1234ABAAB ATBU02       1986    15.89999</td>\n",
              "      <td>C1234ABAAB BAAAA 4</td>\n",
              "      <td>C1234ABAAB ATBU02       1986    15.89999C1234A...</td>\n",
              "    </tr>\n",
              "    <tr>\n",
              "      <th>3</th>\n",
              "      <td>C1234ABAAC ATBU03       3971    50.99000</td>\n",
              "      <td>C1234ABAAC BAAAA 8</td>\n",
              "      <td>C1234ABAAC ATBU03       3971    50.99000C1234A...</td>\n",
              "    </tr>\n",
              "    <tr>\n",
              "      <th>4</th>\n",
              "      <td>C1234ABAAD ATBU04       1171    46.59999</td>\n",
              "      <td>C1234ABAAD BAAAA 40</td>\n",
              "      <td>C1234ABAAD ATBU04       1171    46.59999C1234A...</td>\n",
              "    </tr>\n",
              "  </tbody>\n",
              "</table>\n",
              "</div>"
            ],
            "text/plain": [
              "                                        C_x  ...                                               Col1\n",
              "0  C1234AAAAA ATESTBENCH                     ...  C1234AAAAA ATESTBENCH                   C1234A...\n",
              "1  C1234ABAAA ATBU01       11000   237.75    ...  C1234ABAAA ATBU01       11000   237.75  C1234A...\n",
              "2  C1234ABAAB ATBU02       1986    15.89999  ...  C1234ABAAB ATBU02       1986    15.89999C1234A...\n",
              "3  C1234ABAAC ATBU03       3971    50.99000  ...  C1234ABAAC ATBU03       3971    50.99000C1234A...\n",
              "4  C1234ABAAD ATBU04       1171    46.59999  ...  C1234ABAAD ATBU04       1171    46.59999C1234A...\n",
              "\n",
              "[5 rows x 3 columns]"
            ]
          },
          "metadata": {
            "tags": []
          },
          "execution_count": 199
        }
      ]
    },
    {
      "cell_type": "code",
      "metadata": {
        "id": "hLh_NlYSy4jd",
        "colab_type": "code",
        "colab": {}
      },
      "source": [
        "#parse out different columns\n",
        "merged_multi_line['pccn'] = merged_multi_line['Col1'].str.slice(stop=6)\n",
        "\n",
        "merged_multi_line['plisn'] = merged_multi_line['Col1'].str.slice(start=6,stop=11)\n",
        "\n",
        "merged_multi_line['Cfi'] = merged_multi_line['Col1'].str.slice(start=11,stop=12)\n",
        "\n",
        "merged_multi_line['item_name'] = merged_multi_line['Col1'].str.slice(start=12,stop=24)\n",
        "\n",
        "merged_multi_line['unit_price'] = merged_multi_line['Col1'].str.slice(start=24,stop=32)\n",
        "\n",
        "merged_multi_line['failure_rate'] = merged_multi_line['Col1'].str.slice(start=32,stop=40)\n",
        "\n",
        "merged_multi_line['next_higher_plisn'] = merged_multi_line['Col1'].str.slice(start=52,stop=56)\n",
        "\n",
        "merged_multi_line['qty_per_assembly'] = merged_multi_line['Col1'].str.slice(start=56,stop=61)\n"
      ],
      "execution_count": null,
      "outputs": []
    },
    {
      "cell_type": "code",
      "metadata": {
        "id": "FbiKPY-S2aXM",
        "colab_type": "code",
        "colab": {}
      },
      "source": [
        "#drop extra columns\n",
        "multi_line_clean = merged_multi_line = merged_multi_line.drop(['Col1','C_x','C_y'], axis=1)"
      ],
      "execution_count": null,
      "outputs": []
    },
    {
      "cell_type": "code",
      "metadata": {
        "id": "ChYgEQISzVFg",
        "colab_type": "code",
        "colab": {
          "base_uri": "https://localhost:8080/",
          "height": 359
        },
        "outputId": "764a90d9-a9df-429d-bd01-b984ef0d880f"
      },
      "source": [
        "#double check that it matches the solution\n",
        "multi_line_clean.head(10)"
      ],
      "execution_count": null,
      "outputs": [
        {
          "output_type": "execute_result",
          "data": {
            "text/html": [
              "<div>\n",
              "<style scoped>\n",
              "    .dataframe tbody tr th:only-of-type {\n",
              "        vertical-align: middle;\n",
              "    }\n",
              "\n",
              "    .dataframe tbody tr th {\n",
              "        vertical-align: top;\n",
              "    }\n",
              "\n",
              "    .dataframe thead th {\n",
              "        text-align: right;\n",
              "    }\n",
              "</style>\n",
              "<table border=\"1\" class=\"dataframe\">\n",
              "  <thead>\n",
              "    <tr style=\"text-align: right;\">\n",
              "      <th></th>\n",
              "      <th>pccn</th>\n",
              "      <th>plisn</th>\n",
              "      <th>Cfi</th>\n",
              "      <th>item_name</th>\n",
              "      <th>unit_price</th>\n",
              "      <th>failure_rate</th>\n",
              "      <th>next_higher_plisn</th>\n",
              "      <th>qty_per_assembly</th>\n",
              "    </tr>\n",
              "  </thead>\n",
              "  <tbody>\n",
              "    <tr>\n",
              "      <th>0</th>\n",
              "      <td>C1234A</td>\n",
              "      <td>AAAA</td>\n",
              "      <td>A</td>\n",
              "      <td>TESTBENCH</td>\n",
              "      <td></td>\n",
              "      <td></td>\n",
              "      <td></td>\n",
              "      <td></td>\n",
              "    </tr>\n",
              "    <tr>\n",
              "      <th>1</th>\n",
              "      <td>C1234A</td>\n",
              "      <td>BAAA</td>\n",
              "      <td>A</td>\n",
              "      <td>TBU01</td>\n",
              "      <td>11000</td>\n",
              "      <td>237.75</td>\n",
              "      <td>AAAA</td>\n",
              "      <td>4</td>\n",
              "    </tr>\n",
              "    <tr>\n",
              "      <th>2</th>\n",
              "      <td>C1234A</td>\n",
              "      <td>BAAB</td>\n",
              "      <td>A</td>\n",
              "      <td>TBU02</td>\n",
              "      <td>1986</td>\n",
              "      <td>15.89999</td>\n",
              "      <td>AAAA</td>\n",
              "      <td>4</td>\n",
              "    </tr>\n",
              "    <tr>\n",
              "      <th>3</th>\n",
              "      <td>C1234A</td>\n",
              "      <td>BAAC</td>\n",
              "      <td>A</td>\n",
              "      <td>TBU03</td>\n",
              "      <td>3971</td>\n",
              "      <td>50.99000</td>\n",
              "      <td>AAAA</td>\n",
              "      <td>8</td>\n",
              "    </tr>\n",
              "    <tr>\n",
              "      <th>4</th>\n",
              "      <td>C1234A</td>\n",
              "      <td>BAAD</td>\n",
              "      <td>A</td>\n",
              "      <td>TBU04</td>\n",
              "      <td>1171</td>\n",
              "      <td>46.59999</td>\n",
              "      <td>AAAA</td>\n",
              "      <td>40</td>\n",
              "    </tr>\n",
              "    <tr>\n",
              "      <th>5</th>\n",
              "      <td>C1234A</td>\n",
              "      <td>BAAE</td>\n",
              "      <td>A</td>\n",
              "      <td>TBU05</td>\n",
              "      <td>1229</td>\n",
              "      <td>113.9000</td>\n",
              "      <td>AAAA</td>\n",
              "      <td>4</td>\n",
              "    </tr>\n",
              "    <tr>\n",
              "      <th>6</th>\n",
              "      <td>C1234A</td>\n",
              "      <td>BAAF</td>\n",
              "      <td>A</td>\n",
              "      <td>TBU06</td>\n",
              "      <td>1021</td>\n",
              "      <td>27</td>\n",
              "      <td>AAAA</td>\n",
              "      <td>4</td>\n",
              "    </tr>\n",
              "    <tr>\n",
              "      <th>7</th>\n",
              "      <td>C1234A</td>\n",
              "      <td>BAAG</td>\n",
              "      <td>A</td>\n",
              "      <td>TBU07</td>\n",
              "      <td>1393</td>\n",
              "      <td>68</td>\n",
              "      <td>AAAA</td>\n",
              "      <td>1</td>\n",
              "    </tr>\n",
              "    <tr>\n",
              "      <th>8</th>\n",
              "      <td>C1234A</td>\n",
              "      <td>BAAH</td>\n",
              "      <td>A</td>\n",
              "      <td>TBU08</td>\n",
              "      <td>250</td>\n",
              "      <td>68</td>\n",
              "      <td>AAAA</td>\n",
              "      <td>1</td>\n",
              "    </tr>\n",
              "    <tr>\n",
              "      <th>9</th>\n",
              "      <td>C1234A</td>\n",
              "      <td>BAAI</td>\n",
              "      <td>A</td>\n",
              "      <td>TBU09</td>\n",
              "      <td>557</td>\n",
              "      <td>73.69999</td>\n",
              "      <td>AAAA</td>\n",
              "      <td>4</td>\n",
              "    </tr>\n",
              "  </tbody>\n",
              "</table>\n",
              "</div>"
            ],
            "text/plain": [
              "     pccn  plisn Cfi  ... failure_rate next_higher_plisn qty_per_assembly\n",
              "0  C1234A  AAAA    A  ...                                                \n",
              "1  C1234A  BAAA    A  ...     237.75                AAAA             4   \n",
              "2  C1234A  BAAB    A  ...     15.89999              AAAA             4   \n",
              "3  C1234A  BAAC    A  ...     50.99000              AAAA             8   \n",
              "4  C1234A  BAAD    A  ...     46.59999              AAAA             40  \n",
              "5  C1234A  BAAE    A  ...     113.9000              AAAA             4   \n",
              "6  C1234A  BAAF    A  ...     27                    AAAA             4   \n",
              "7  C1234A  BAAG    A  ...     68                    AAAA             1   \n",
              "8  C1234A  BAAH    A  ...     68                    AAAA             1   \n",
              "9  C1234A  BAAI    A  ...     73.69999              AAAA             4   \n",
              "\n",
              "[10 rows x 8 columns]"
            ]
          },
          "metadata": {
            "tags": []
          },
          "execution_count": 203
        }
      ]
    },
    {
      "cell_type": "code",
      "metadata": {
        "id": "eKF6WO5G3jmS",
        "colab_type": "code",
        "colab": {
          "base_uri": "https://localhost:8080/",
          "height": 17
        },
        "outputId": "119c721c-699a-4302-d853-cbc589ba33ca"
      },
      "source": [
        "#export the csv file\n",
        "from google.colab import files\n",
        "multi_line_clean.to_csv('multi_line_clean.csv') \n",
        "files.download('multi_line_clean.csv')"
      ],
      "execution_count": null,
      "outputs": [
        {
          "output_type": "display_data",
          "data": {
            "application/javascript": [
              "\n",
              "    async function download(id, filename, size) {\n",
              "      if (!google.colab.kernel.accessAllowed) {\n",
              "        return;\n",
              "      }\n",
              "      const div = document.createElement('div');\n",
              "      const label = document.createElement('label');\n",
              "      label.textContent = `Downloading \"${filename}\": `;\n",
              "      div.appendChild(label);\n",
              "      const progress = document.createElement('progress');\n",
              "      progress.max = size;\n",
              "      div.appendChild(progress);\n",
              "      document.body.appendChild(div);\n",
              "\n",
              "      const buffers = [];\n",
              "      let downloaded = 0;\n",
              "\n",
              "      const channel = await google.colab.kernel.comms.open(id);\n",
              "      // Send a message to notify the kernel that we're ready.\n",
              "      channel.send({})\n",
              "\n",
              "      for await (const message of channel.messages) {\n",
              "        // Send a message to notify the kernel that we're ready.\n",
              "        channel.send({})\n",
              "        if (message.buffers) {\n",
              "          for (const buffer of message.buffers) {\n",
              "            buffers.push(buffer);\n",
              "            downloaded += buffer.byteLength;\n",
              "            progress.value = downloaded;\n",
              "          }\n",
              "        }\n",
              "      }\n",
              "      const blob = new Blob(buffers, {type: 'application/binary'});\n",
              "      const a = document.createElement('a');\n",
              "      a.href = window.URL.createObjectURL(blob);\n",
              "      a.download = filename;\n",
              "      div.appendChild(a);\n",
              "      a.click();\n",
              "      div.remove();\n",
              "    }\n",
              "  "
            ],
            "text/plain": [
              "<IPython.core.display.Javascript object>"
            ]
          },
          "metadata": {
            "tags": []
          }
        },
        {
          "output_type": "display_data",
          "data": {
            "application/javascript": [
              "download(\"download_6f3434b6-3598-4402-b81e-980a9d8f1102\", \"multi_line_clean.csv\", 2055)"
            ],
            "text/plain": [
              "<IPython.core.display.Javascript object>"
            ]
          },
          "metadata": {
            "tags": []
          }
        }
      ]
    },
    {
      "cell_type": "markdown",
      "metadata": {
        "id": "ehtfO2-_SFnI",
        "colab_type": "text"
      },
      "source": [
        "# Task 3: Database Creation"
      ]
    },
    {
      "cell_type": "code",
      "metadata": {
        "id": "udLaV0-Vg4F4",
        "colab_type": "code",
        "colab": {}
      },
      "source": [
        "import sqlite3"
      ],
      "execution_count": null,
      "outputs": []
    },
    {
      "cell_type": "code",
      "metadata": {
        "id": "VdGHHagIV0r3",
        "colab_type": "code",
        "colab": {}
      },
      "source": [
        "#create database\n",
        "conn = sqlite3.connect('LSA.db')\n",
        "c = conn.cursor()"
      ],
      "execution_count": null,
      "outputs": []
    },
    {
      "cell_type": "code",
      "metadata": {
        "id": "wzTR0J5VyHwZ",
        "colab_type": "code",
        "colab": {}
      },
      "source": [
        "#create table in database\n",
        "c.execute('''CREATE TABLE Logistics\n",
        "            ([item_name] TEXT PRIMARY KEY, [pccn] text, [plisn] text, [cfi] text, [unit_price] integer, \n",
        "            [failure_rate] float, [next_higher_plisn] text, [qty_per_assembly] integer)''')\n",
        "\n",
        "conn.commit()"
      ],
      "execution_count": null,
      "outputs": []
    },
    {
      "cell_type": "markdown",
      "metadata": {
        "id": "lZiRYANZSMnj",
        "colab_type": "text"
      },
      "source": [
        "# Task 4: Data Insertion"
      ]
    },
    {
      "cell_type": "code",
      "metadata": {
        "id": "YW1ZC1RR0KEG",
        "colab_type": "code",
        "colab": {}
      },
      "source": [
        "import pandas as pd\n",
        "from pandas import DataFrame"
      ],
      "execution_count": null,
      "outputs": []
    },
    {
      "cell_type": "code",
      "metadata": {
        "id": "gPXXVZlt3dPW",
        "colab_type": "code",
        "colab": {}
      },
      "source": [
        "#add cleaned single line LSA data\n",
        "single_line.to_sql('Logistics', conn, if_exists='replace', index = False)"
      ],
      "execution_count": null,
      "outputs": []
    },
    {
      "cell_type": "code",
      "metadata": {
        "id": "QR2xio0e4UPL",
        "colab_type": "code",
        "colab": {
          "base_uri": "https://localhost:8080/",
          "height": 54
        },
        "outputId": "fd043763-50f0-4008-a8a7-f35f0835c567"
      },
      "source": [
        "#double check that data loaded\n",
        "c.execute('''SELECT * FROM Logistics''')\n",
        "print(c.fetchall())"
      ],
      "execution_count": null,
      "outputs": [
        {
          "output_type": "stream",
          "text": [
            "[('C1234A', 'AAAA ', 'A', 'TESTBENCH   ', '        ', '        ', '     ', '     '), ('C1234A', 'BAAA ', 'A', 'TBU01       ', '11000   ', '237.75  ', 'AAAA ', '4    '), ('C1234A', 'BAAB ', 'A', 'TBU02       ', '1986    ', '15.89999', 'AAAA ', '4    '), ('C1234A', 'BAAC ', 'A', 'TBU03       ', '3971    ', '50.99000', 'AAAA ', '8    '), ('C1234A', 'BAAD ', 'A', 'TBU04       ', '1171    ', '46.59999', 'AAAA ', '40   '), ('C1234A', 'BAAE ', 'A', 'TBU05       ', '1229    ', '113.9000', 'AAAA ', '4    '), ('C1234A', 'BAAF ', 'A', 'TBU06       ', '1021    ', '27      ', 'AAAA ', '4    '), ('C1234A', 'BAAG ', 'A', 'TBU07       ', '1393    ', '68      ', 'AAAA ', '1    '), ('C1234A', 'BAAH ', 'A', 'TBU08       ', '250     ', '68      ', 'AAAA ', '1    '), ('C1234A', 'BAAI ', 'A', 'TBU09       ', '557     ', '73.69999', 'AAAA ', '4    '), ('C1234A', 'BAAJ ', 'A', 'TBU10       ', '975     ', '65.69999', 'AAAA ', '1    '), ('C1234A', 'BAAK ', 'A', 'TBU11       ', '8929    ', '8       ', 'AAAA ', '4    '), ('C1234A', 'BAAL ', 'A', 'TBU12       ', '2364    ', '63      ', 'AAAA ', '2    '), ('C1234A', 'BAAM ', 'A', 'TBU13       ', '650     ', '35.70999', 'AAAA ', '1    '), ('C1234A', 'BAAN ', 'A', 'TBU14       ', '743     ', '35      ', 'AAAA ', '5    '), ('C1234A', 'BAAO ', 'A', 'TBU15       ', '1500    ', '35.70999', 'AAAA ', '1    '), ('C1234A', 'BAAP ', 'A', 'TBU16       ', '2500    ', '73.69999', 'AAAA ', '1    '), ('C1234A', 'BAAQ ', 'A', 'TBU17       ', '3143    ', '221.1000', 'AAAA ', '1    '), ('C1234A', 'BAAR ', 'A', 'TBU18       ', '186     ', '7.099999', 'AAAA ', '8    '), ('C1234A', 'BAAS ', 'A', 'TBU19       ', '286     ', '12.80000', 'AAAA ', '8    '), ('C1234A', 'BAAT ', 'A', 'TBU20       ', '286     ', '43.47999', 'AAAA ', '8    '), ('C1234A', 'BAAU ', 'A', 'TBU21       ', '464     ', '50      ', 'AAAA ', '8    '), ('C1234A', 'BAAV ', 'A', 'TBU22       ', '1714    ', '14      ', 'AAAA ', '4    '), ('C1234A', 'CBBA ', 'A', 'SU011       ', '155     ', '43.97999', 'BAAA ', '1    '), ('C1234A', 'CBBB ', 'A', 'SU012       ', '771     ', '11.14000', 'BAAA ', '2    '), ('C1234A', 'CBBC ', 'A', 'SU013       ', '771     ', '28.43000', 'BAAA ', '2    '), ('C1234A', 'CBBD ', 'A', 'SU014       ', '643     ', '24.12999', 'BAAA ', '4    '), ('C1234A', 'CBBE ', 'A', 'SU015       ', '5189    ', '18.11000', 'BAAA ', '1    '), ('C1234A', 'CBBF ', 'A', 'SU171       ', '127     ', '44.22000', 'BAAQ ', '1    '), ('C1234A', 'CBBG ', 'A', 'SU172       ', '786     ', '8.840000', 'BAAQ ', '1    '), ('C1234A', 'CBBH ', 'A', 'SU173       ', '314     ', '22.11000', 'BAAQ ', '2    '), ('C1234A', 'CBBI ', 'A', 'SU174       ', '171     ', '39.79999', 'BAAQ ', '2    '), ('C1234A', 'CBBJ ', 'A', 'SU175       ', '420     ', '14.73999', 'BAAQ ', '3    ')]\n"
          ],
          "name": "stdout"
        }
      ]
    }
  ]
}